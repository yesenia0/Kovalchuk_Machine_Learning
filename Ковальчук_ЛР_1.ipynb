{
 "cells": [
  {
   "cell_type": "markdown",
   "id": "9a3ccf35",
   "metadata": {},
   "source": [
    "# Варіант 10"
   ]
  },
  {
   "cell_type": "markdown",
   "id": "41f87c58",
   "metadata": {},
   "source": [
    "# Завдання 1"
   ]
  },
  {
   "cell_type": "code",
   "execution_count": 1,
   "id": "fc8d5d58",
   "metadata": {},
   "outputs": [],
   "source": [
    "import numpy as np"
   ]
  },
  {
   "cell_type": "code",
   "execution_count": 2,
   "id": "e998c367",
   "metadata": {},
   "outputs": [],
   "source": [
    "matrix = np.random.randint(1, 11, size=(3, 4))"
   ]
  },
  {
   "cell_type": "code",
   "execution_count": 3,
   "id": "65505914",
   "metadata": {},
   "outputs": [],
   "source": [
    "vector = np.random.randint(1, 11, size=(4, 1))"
   ]
  },
  {
   "cell_type": "code",
   "execution_count": 4,
   "id": "7fb3ed89",
   "metadata": {},
   "outputs": [],
   "source": [
    "result = np.dot(matrix, vector)\n"
   ]
  },
  {
   "cell_type": "code",
   "execution_count": 5,
   "id": "9b132c67",
   "metadata": {},
   "outputs": [
    {
     "name": "stdout",
     "output_type": "stream",
     "text": [
      "Матриця 3x4:\n",
      "[[ 6  6  1 10]\n",
      " [ 9  7  3  4]\n",
      " [10  9  5 10]]\n",
      "\n",
      "Вектор 4x1:\n",
      "[[ 4]\n",
      " [10]\n",
      " [ 7]\n",
      " [ 3]]\n",
      "\n",
      "Добуток матриці на вектор:\n",
      "[[121]\n",
      " [139]\n",
      " [195]]\n"
     ]
    }
   ],
   "source": [
    "print(\"Матриця 3x4:\")\n",
    "print(matrix)\n",
    "print(\"\\nВектор 4x1:\")\n",
    "print(vector)\n",
    "print(\"\\nДобуток матриці на вектор:\")\n",
    "print(result)"
   ]
  },
  {
   "cell_type": "markdown",
   "id": "f45aa9c3",
   "metadata": {},
   "source": [
    "# Завдання 2"
   ]
  },
  {
   "cell_type": "code",
   "execution_count": 6,
   "id": "6b5ca9a2",
   "metadata": {},
   "outputs": [],
   "source": [
    "matrix = np.random.randint(1, 11, size=(3, 4))"
   ]
  },
  {
   "cell_type": "code",
   "execution_count": 7,
   "id": "2d5006b3",
   "metadata": {},
   "outputs": [],
   "source": [
    "vector = np.random.randint(1, 11, size=(4, 1))"
   ]
  },
  {
   "cell_type": "code",
   "execution_count": 8,
   "id": "108f4933",
   "metadata": {},
   "outputs": [],
   "source": [
    "mean_value = np.mean(matrix)"
   ]
  },
  {
   "cell_type": "code",
   "execution_count": 9,
   "id": "25f3a277",
   "metadata": {},
   "outputs": [
    {
     "name": "stdout",
     "output_type": "stream",
     "text": [
      "Матриця 3x4:\n",
      "[[ 2 10  8  2]\n",
      " [ 6  1  8  7]\n",
      " [ 2  4 10  5]]\n",
      "\n",
      "Вектор 4x1:\n",
      "[[ 2]\n",
      " [ 8]\n",
      " [10]\n",
      " [ 5]]\n",
      "\n",
      "Середнє значення елементів матриці:\n",
      "5.416666666666667\n"
     ]
    }
   ],
   "source": [
    "print(\"Матриця 3x4:\")\n",
    "print(matrix)\n",
    "print(\"\\nВектор 4x1:\")\n",
    "print(vector)\n",
    "print(\"\\nСереднє значення елементів матриці:\")\n",
    "print(mean_value)"
   ]
  },
  {
   "cell_type": "markdown",
   "id": "57ea137e",
   "metadata": {},
   "source": [
    "# Завдання 3"
   ]
  },
  {
   "cell_type": "code",
   "execution_count": 10,
   "id": "7018d0a6",
   "metadata": {},
   "outputs": [],
   "source": [
    "result = np.dot(matrix, vector)"
   ]
  },
  {
   "cell_type": "code",
   "execution_count": 11,
   "id": "a0bffa72",
   "metadata": {},
   "outputs": [
    {
     "name": "stdout",
     "output_type": "stream",
     "text": [
      "Матриця 3x4:\n",
      "[[ 2 10  8  2]\n",
      " [ 6  1  8  7]\n",
      " [ 2  4 10  5]]\n",
      "\n",
      "Вектор 4x1:\n",
      "[[ 2]\n",
      " [ 8]\n",
      " [10]\n",
      " [ 5]]\n",
      "\n",
      "Добуток матриці на вектор:\n",
      "[[174]\n",
      " [135]\n",
      " [161]]\n"
     ]
    }
   ],
   "source": [
    "print(\"Матриця 3x4:\")\n",
    "print(matrix)\n",
    "print(\"\\nВектор 4x1:\")\n",
    "print(vector)\n",
    "print(\"\\nДобуток матриці на вектор:\")\n",
    "print(result)"
   ]
  },
  {
   "cell_type": "markdown",
   "id": "e1f7da58",
   "metadata": {},
   "source": [
    "#  Завдання 4"
   ]
  },
  {
   "cell_type": "code",
   "execution_count": 14,
   "id": "0e000279",
   "metadata": {},
   "outputs": [],
   "source": [
    "matrix = np.random.randint(1, 11, size=(3, 4))"
   ]
  },
  {
   "cell_type": "code",
   "execution_count": 15,
   "id": "eea3d021",
   "metadata": {},
   "outputs": [],
   "source": [
    "vector = np.random.rand(4, 1)"
   ]
  },
  {
   "cell_type": "code",
   "execution_count": 16,
   "id": "e93e39de",
   "metadata": {},
   "outputs": [],
   "source": [
    "result = np.dot(matrix, vector)"
   ]
  },
  {
   "cell_type": "code",
   "execution_count": 17,
   "id": "a9320e6b",
   "metadata": {},
   "outputs": [
    {
     "name": "stdout",
     "output_type": "stream",
     "text": [
      "Матриця 3x4:\n",
      "[[ 2 10 10  5]\n",
      " [ 6  4  8  7]\n",
      " [ 6  1  6  7]]\n",
      "\n",
      "Вектор 4x1:\n",
      "[[0.18901329]\n",
      " [0.72387731]\n",
      " [0.74229659]\n",
      " [0.67071271]]\n",
      "\n",
      "Добуток матриці на вектор:\n",
      "[[18.39332917]\n",
      " [14.66295073]\n",
      " [11.00672562]]\n"
     ]
    }
   ],
   "source": [
    "print(\"Матриця 3x4:\")\n",
    "print(matrix)\n",
    "print(\"\\nВектор 4x1:\")\n",
    "print(vector)\n",
    "print(\"\\nДобуток матриці на вектор:\")\n",
    "print(result)"
   ]
  },
  {
   "cell_type": "markdown",
   "id": "432d9291",
   "metadata": {},
   "source": [
    "# Завдання 5"
   ]
  },
  {
   "cell_type": "code",
   "execution_count": 18,
   "id": "ebdeb45f",
   "metadata": {},
   "outputs": [],
   "source": [
    "matrix = np.random.rand(3, 4)"
   ]
  },
  {
   "cell_type": "code",
   "execution_count": 19,
   "id": "9139cb6a",
   "metadata": {},
   "outputs": [],
   "source": [
    "vector = np.random.randint(1, 11, size=(4, 1))"
   ]
  },
  {
   "cell_type": "code",
   "execution_count": 20,
   "id": "04e3a22b",
   "metadata": {},
   "outputs": [],
   "source": [
    "result = np.dot(matrix, vector)"
   ]
  },
  {
   "cell_type": "code",
   "execution_count": 21,
   "id": "f6bd1420",
   "metadata": {},
   "outputs": [
    {
     "name": "stdout",
     "output_type": "stream",
     "text": [
      "Матриця 3x4:\n",
      "[[0.95420632 0.13950819 0.80479648 0.07395729]\n",
      " [0.72570422 0.82445713 0.7156506  0.08974343]\n",
      " [0.69334114 0.9257872  0.75417253 0.8519383 ]]\n",
      "\n",
      "Вектор 4x1:\n",
      "[[2]\n",
      " [9]\n",
      " [2]\n",
      " [7]]\n",
      "\n",
      "Добуток матриці на вектор:\n",
      "[[ 5.29128039]\n",
      " [10.93102777]\n",
      " [17.19068022]]\n"
     ]
    }
   ],
   "source": [
    "print(\"Матриця 3x4:\")\n",
    "print(matrix)\n",
    "print(\"\\nВектор 4x1:\")\n",
    "print(vector)\n",
    "print(\"\\nДобуток матриці на вектор:\")\n",
    "print(result)"
   ]
  },
  {
   "cell_type": "markdown",
   "id": "d4a2c002",
   "metadata": {},
   "source": [
    "# Завдання 6"
   ]
  },
  {
   "cell_type": "code",
   "execution_count": 22,
   "id": "9bb054cb",
   "metadata": {},
   "outputs": [],
   "source": [
    "matrix = np.random.rand(3, 4)"
   ]
  },
  {
   "cell_type": "code",
   "execution_count": 23,
   "id": "84e2846e",
   "metadata": {},
   "outputs": [],
   "source": [
    "vector = np.random.rand(4, 1)"
   ]
  },
  {
   "cell_type": "code",
   "execution_count": 24,
   "id": "32cbf45b",
   "metadata": {},
   "outputs": [],
   "source": [
    "result = np.dot(matrix, vector)"
   ]
  },
  {
   "cell_type": "code",
   "execution_count": 25,
   "id": "e6e4a226",
   "metadata": {},
   "outputs": [
    {
     "name": "stdout",
     "output_type": "stream",
     "text": [
      "Матриця 3x4:\n",
      "[[0.72935501 0.07461995 0.95304977 0.84585685]\n",
      " [0.15211785 0.54384543 0.51522852 0.54584938]\n",
      " [0.40314812 0.92341688 0.31551324 0.93214547]]\n",
      "\n",
      "Вектор 4x1:\n",
      "[[0.03337275]\n",
      " [0.95083716]\n",
      " [0.07771336]\n",
      " [0.3660105 ]]\n",
      "\n",
      "Добуток матриці на вектор:\n",
      "[[0.47894918]\n",
      " [0.76201178]\n",
      " [1.25716787]]\n"
     ]
    }
   ],
   "source": [
    "print(\"Матриця 3x4:\")\n",
    "print(matrix)\n",
    "print(\"\\nВектор 4x1:\")\n",
    "print(vector)\n",
    "print(\"\\nДобуток матриці на вектор:\")\n",
    "print(result)"
   ]
  },
  {
   "cell_type": "markdown",
   "id": "eaae97cb",
   "metadata": {},
   "source": [
    "# Завдання 7"
   ]
  },
  {
   "cell_type": "code",
   "execution_count": 26,
   "id": "a83e7836",
   "metadata": {},
   "outputs": [],
   "source": [
    "matrix = np.random.randint(-5, 6, size=(3, 4))"
   ]
  },
  {
   "cell_type": "code",
   "execution_count": 27,
   "id": "e2596619",
   "metadata": {},
   "outputs": [],
   "source": [
    "vector = np.random.randint(1, 11, size=(4, 1))"
   ]
  },
  {
   "cell_type": "code",
   "execution_count": 28,
   "id": "d90a897f",
   "metadata": {},
   "outputs": [],
   "source": [
    "result = np.dot(matrix, vector)"
   ]
  },
  {
   "cell_type": "code",
   "execution_count": 29,
   "id": "265dd76b",
   "metadata": {},
   "outputs": [
    {
     "name": "stdout",
     "output_type": "stream",
     "text": [
      "Матриця 3x4:\n",
      "[[ 4 -1  1  4]\n",
      " [ 0 -3  0 -2]\n",
      " [-2 -1 -1  4]]\n",
      "\n",
      "Вектор 4x1:\n",
      "[[7]\n",
      " [3]\n",
      " [4]\n",
      " [9]]\n",
      "\n",
      "Добуток матриці на вектор:\n",
      "[[ 65]\n",
      " [-27]\n",
      " [ 15]]\n"
     ]
    }
   ],
   "source": [
    "print(\"Матриця 3x4:\")\n",
    "print(matrix)\n",
    "print(\"\\nВектор 4x1:\")\n",
    "print(vector)\n",
    "print(\"\\nДобуток матриці на вектор:\")\n",
    "print(result)"
   ]
  },
  {
   "cell_type": "markdown",
   "id": "51da088b",
   "metadata": {},
   "source": [
    "# Завдання 8"
   ]
  },
  {
   "cell_type": "code",
   "execution_count": 30,
   "id": "36fc5a04",
   "metadata": {},
   "outputs": [],
   "source": [
    "matrix = np.random.randint(1, 11, size=(3, 4))"
   ]
  },
  {
   "cell_type": "code",
   "execution_count": 31,
   "id": "a7bfb50e",
   "metadata": {},
   "outputs": [],
   "source": [
    "vector = np.random.rand(4, 1)"
   ]
  },
  {
   "cell_type": "code",
   "execution_count": 32,
   "id": "8481e79f",
   "metadata": {},
   "outputs": [],
   "source": [
    "result = np.dot(matrix, vector)\n"
   ]
  },
  {
   "cell_type": "code",
   "execution_count": 33,
   "id": "4dd49f09",
   "metadata": {},
   "outputs": [
    {
     "name": "stdout",
     "output_type": "stream",
     "text": [
      "Матриця 3x4:\n",
      "[[ 8  1  7 10]\n",
      " [ 7  1  5  8]\n",
      " [ 5  6  2  1]]\n",
      "\n",
      "Вектор 4x1:\n",
      "[[0.56444862]\n",
      " [0.99266533]\n",
      " [0.95967433]\n",
      " [0.97502069]]\n",
      "\n",
      "Добуток матриці на вектор:\n",
      "[[21.97618154]\n",
      " [17.54234287]\n",
      " [11.67260443]]\n"
     ]
    }
   ],
   "source": [
    "print(\"Матриця 3x4:\")\n",
    "print(matrix)\n",
    "print(\"\\nВектор 4x1:\")\n",
    "print(vector)\n",
    "print(\"\\nДобуток матриці на вектор:\")\n",
    "print(result)"
   ]
  },
  {
   "cell_type": "markdown",
   "id": "2f0e34c6",
   "metadata": {},
   "source": [
    "# Завдання 9"
   ]
  },
  {
   "cell_type": "code",
   "execution_count": 34,
   "id": "989e0ef3",
   "metadata": {},
   "outputs": [],
   "source": [
    "matrix = np.random.rand(3, 4)"
   ]
  },
  {
   "cell_type": "code",
   "execution_count": 35,
   "id": "978a0177",
   "metadata": {},
   "outputs": [],
   "source": [
    "vector = np.random.randint(1, 11, size=(4, 1))"
   ]
  },
  {
   "cell_type": "code",
   "execution_count": 36,
   "id": "e70993f9",
   "metadata": {},
   "outputs": [],
   "source": [
    "result = np.dot(matrix, vector)"
   ]
  },
  {
   "cell_type": "code",
   "execution_count": 37,
   "id": "38315660",
   "metadata": {},
   "outputs": [
    {
     "name": "stdout",
     "output_type": "stream",
     "text": [
      "Матриця 3x4:\n",
      "[[0.63049074 0.4750481  0.78339013 0.55455744]\n",
      " [0.12348961 0.34526408 0.38387229 0.59036914]\n",
      " [0.8504996  0.83774108 0.07286681 0.39260713]]\n",
      "\n",
      "Вектор 4x1:\n",
      "[[10]\n",
      " [ 4]\n",
      " [ 2]\n",
      " [10]]\n",
      "\n",
      "Добуток матриці на вектор:\n",
      "[[15.31745444]\n",
      " [ 9.28738839]\n",
      " [15.92776523]]\n"
     ]
    }
   ],
   "source": [
    "print(\"Матриця 3x4:\")\n",
    "print(matrix)\n",
    "print(\"\\nВектор 4x1:\")\n",
    "print(vector)\n",
    "print(\"\\nДобуток матриці на вектор:\")\n",
    "print(result)"
   ]
  },
  {
   "cell_type": "markdown",
   "id": "9719a47f",
   "metadata": {},
   "source": [
    "# Завдання 10"
   ]
  },
  {
   "cell_type": "code",
   "execution_count": 40,
   "id": "dc75f5c1",
   "metadata": {},
   "outputs": [],
   "source": [
    "matrix = np.random.randint(-5, 6, size=(3, 4))"
   ]
  },
  {
   "cell_type": "code",
   "execution_count": 41,
   "id": "9d2da7e3",
   "metadata": {},
   "outputs": [],
   "source": [
    "vector = np.random.rand(4, 1)"
   ]
  },
  {
   "cell_type": "code",
   "execution_count": 42,
   "id": "b99c19e1",
   "metadata": {},
   "outputs": [],
   "source": [
    "result = np.dot(matrix, vector)"
   ]
  },
  {
   "cell_type": "code",
   "execution_count": 43,
   "id": "d9ff3b4e",
   "metadata": {},
   "outputs": [
    {
     "name": "stdout",
     "output_type": "stream",
     "text": [
      "Матриця 3x4:\n",
      "[[ 5  5 -1  0]\n",
      " [ 0  0  1  0]\n",
      " [ 5 -5 -4  2]]\n",
      "\n",
      "Вектор 4x1:\n",
      "[[0.24635105]\n",
      " [0.85414131]\n",
      " [0.04850441]\n",
      " [0.28211518]]\n",
      "\n",
      "Добуток матриці на вектор:\n",
      "[[ 5.45395739]\n",
      " [ 0.04850441]\n",
      " [-2.66873857]]\n"
     ]
    }
   ],
   "source": [
    "print(\"Матриця 3x4:\")\n",
    "print(matrix)\n",
    "print(\"\\nВектор 4x1:\")\n",
    "print(vector)\n",
    "print(\"\\nДобуток матриці на вектор:\")\n",
    "print(result)"
   ]
  },
  {
   "cell_type": "markdown",
   "id": "aa63ec1d",
   "metadata": {},
   "source": [
    "# Завдання 11"
   ]
  },
  {
   "cell_type": "code",
   "execution_count": 44,
   "id": "d616154e",
   "metadata": {},
   "outputs": [],
   "source": [
    "matrix = np.random.rand(3, 4)"
   ]
  },
  {
   "cell_type": "code",
   "execution_count": 45,
   "id": "0b9b3016",
   "metadata": {},
   "outputs": [],
   "source": [
    "vector = np.random.rand(4, 1)"
   ]
  },
  {
   "cell_type": "code",
   "execution_count": 46,
   "id": "f5b5d661",
   "metadata": {},
   "outputs": [],
   "source": [
    "result = np.dot(matrix, vector)\n"
   ]
  },
  {
   "cell_type": "code",
   "execution_count": 47,
   "id": "f0a562f1",
   "metadata": {},
   "outputs": [
    {
     "name": "stdout",
     "output_type": "stream",
     "text": [
      "Матриця 3x4:\n",
      "[[0.63034183 0.46597292 0.71532942 0.66415955]\n",
      " [0.526616   0.79862528 0.6506972  0.29746937]\n",
      " [0.78689277 0.30005725 0.88972386 0.05096048]]\n",
      "\n",
      "Вектор 4x1:\n",
      "[[0.11563493]\n",
      " [0.41806307]\n",
      " [0.94507335]\n",
      " [0.47156702]]\n",
      "\n",
      "Добуток матриці на вектор:\n",
      "[[1.25693012]\n",
      " [1.15000427]\n",
      " [1.08132074]]\n"
     ]
    }
   ],
   "source": [
    "print(\"Матриця 3x4:\")\n",
    "print(matrix)\n",
    "print(\"\\nВектор 4x1:\")\n",
    "print(vector)\n",
    "print(\"\\nДобуток матриці на вектор:\")\n",
    "print(result)"
   ]
  },
  {
   "cell_type": "markdown",
   "id": "a9378d71",
   "metadata": {},
   "source": [
    "# Завдання 12"
   ]
  },
  {
   "cell_type": "code",
   "execution_count": 48,
   "id": "79b5d4f6",
   "metadata": {},
   "outputs": [],
   "source": [
    "matrix = 2 * np.random.rand(3, 4) - 1\n",
    "vector = np.random.randint(-3, 4, size=(4, 1))\n",
    "result = np.dot(matrix, vector)"
   ]
  },
  {
   "cell_type": "code",
   "execution_count": 49,
   "id": "de5b6174",
   "metadata": {},
   "outputs": [
    {
     "name": "stdout",
     "output_type": "stream",
     "text": [
      "Матриця 3x4:\n",
      "[[-0.54798056 -0.51134331 -0.77720193  0.79268667]\n",
      " [-0.69926711 -0.89891393 -0.95060368 -0.10522252]\n",
      " [-0.77778247 -0.58988415  0.34348217 -0.53166449]]\n",
      "\n",
      "Вектор 4x1:\n",
      "[[-2]\n",
      " [-3]\n",
      " [ 0]\n",
      " [ 2]]\n",
      "\n",
      "Добуток матриці на вектор:\n",
      "[[4.21536439]\n",
      " [3.88483098]\n",
      " [2.2618884 ]]\n"
     ]
    }
   ],
   "source": [
    "print(\"Матриця 3x4:\")\n",
    "print(matrix)\n",
    "print(\"\\nВектор 4x1:\")\n",
    "print(vector)\n",
    "print(\"\\nДобуток матриці на вектор:\")\n",
    "print(result)"
   ]
  },
  {
   "cell_type": "markdown",
   "id": "6d839dc9",
   "metadata": {},
   "source": [
    "# Завдання 13"
   ]
  },
  {
   "cell_type": "code",
   "execution_count": 50,
   "id": "29eddf26",
   "metadata": {},
   "outputs": [],
   "source": [
    "matrix = np.random.randint(1, 11, size=(3, 4))"
   ]
  },
  {
   "cell_type": "code",
   "execution_count": 51,
   "id": "ae6aaced",
   "metadata": {},
   "outputs": [],
   "source": [
    "vector = np.random.rand(4, 1)"
   ]
  },
  {
   "cell_type": "code",
   "execution_count": 52,
   "id": "56688376",
   "metadata": {},
   "outputs": [],
   "source": [
    "result = np.dot(matrix, vector)"
   ]
  },
  {
   "cell_type": "code",
   "execution_count": 53,
   "id": "a0d5caa2",
   "metadata": {},
   "outputs": [
    {
     "name": "stdout",
     "output_type": "stream",
     "text": [
      "Матриця 3x4:\n",
      "[[8 9 1 5]\n",
      " [2 8 9 9]\n",
      " [5 3 3 9]]\n",
      "\n",
      "Вектор 4x1:\n",
      "[[0.38941164]\n",
      " [0.91517538]\n",
      " [0.19127138]\n",
      " [0.00452156]]\n",
      "\n",
      "Добуток матриці на вектор:\n",
      "[[11.5657507 ]\n",
      " [ 9.86236274]\n",
      " [ 5.30709251]]\n"
     ]
    }
   ],
   "source": [
    "print(\"Матриця 3x4:\")\n",
    "print(matrix)\n",
    "print(\"\\nВектор 4x1:\")\n",
    "print(vector)\n",
    "print(\"\\nДобуток матриці на вектор:\")\n",
    "print(result)"
   ]
  },
  {
   "cell_type": "markdown",
   "id": "961f3282",
   "metadata": {},
   "source": [
    "# Завдання 14"
   ]
  },
  {
   "cell_type": "code",
   "execution_count": 54,
   "id": "6c088651",
   "metadata": {},
   "outputs": [],
   "source": [
    "matrix = np.random.rand(3, 4)"
   ]
  },
  {
   "cell_type": "code",
   "execution_count": 55,
   "id": "008f189c",
   "metadata": {},
   "outputs": [],
   "source": [
    "vector = np.random.rand(4, 1)"
   ]
  },
  {
   "cell_type": "code",
   "execution_count": 56,
   "id": "8095821c",
   "metadata": {},
   "outputs": [],
   "source": [
    "result = np.dot(matrix, vector)"
   ]
  },
  {
   "cell_type": "code",
   "execution_count": 57,
   "id": "40b7afc8",
   "metadata": {},
   "outputs": [
    {
     "name": "stdout",
     "output_type": "stream",
     "text": [
      "Матриця 3x4:\n",
      "[[0.33252822 0.28515792 0.64925996 0.52954205]\n",
      " [0.82189688 0.7317689  0.55823957 0.06837241]\n",
      " [0.8882437  0.8357136  0.43921516 0.06779289]]\n",
      "\n",
      "Вектор 4x1:\n",
      "[[0.51779521]\n",
      " [0.02440284]\n",
      " [0.78838736]\n",
      " [0.79098962]]\n",
      "\n",
      "Добуток матриці на вектор:\n",
      "[[1.10987079]\n",
      " [0.93762239]\n",
      " [0.88021727]]\n"
     ]
    }
   ],
   "source": [
    "print(\"Матриця 3x4:\")\n",
    "print(matrix)\n",
    "print(\"\\nВектор 4x1:\")\n",
    "print(vector)\n",
    "print(\"\\nДобуток матриці на вектор:\")\n",
    "print(result)"
   ]
  },
  {
   "cell_type": "markdown",
   "id": "4def97be",
   "metadata": {},
   "source": [
    "# Завдання 15 "
   ]
  },
  {
   "cell_type": "code",
   "execution_count": 58,
   "id": "0b317784",
   "metadata": {},
   "outputs": [],
   "source": [
    "matrix = np.random.rand(3, 4)\n",
    "vector = np.random.randint(1, 11, size=(4, 1))\n",
    "result = np.dot(matrix, vector)"
   ]
  },
  {
   "cell_type": "code",
   "execution_count": 59,
   "id": "c581e45f",
   "metadata": {},
   "outputs": [
    {
     "name": "stdout",
     "output_type": "stream",
     "text": [
      "Матриця 3x4:\n",
      "[[0.73064187 0.79464138 0.54118645 0.13496697]\n",
      " [0.7673979  0.14116656 0.46026995 0.86384056]\n",
      " [0.3135188  0.06526847 0.23708287 0.38256736]]\n",
      "\n",
      "Вектор 4x1:\n",
      "[[10]\n",
      " [ 9]\n",
      " [ 3]\n",
      " [ 9]]\n",
      "\n",
      "Добуток матриці на вектор:\n",
      "[[17.29645313]\n",
      " [18.09985293]\n",
      " [ 7.87695909]]\n"
     ]
    }
   ],
   "source": [
    "print(\"Матриця 3x4:\")\n",
    "print(matrix)\n",
    "print(\"\\nВектор 4x1:\")\n",
    "print(vector)\n",
    "print(\"\\nДобуток матриці на вектор:\")\n",
    "print(result)"
   ]
  },
  {
   "cell_type": "markdown",
   "id": "cc7e194b",
   "metadata": {},
   "source": [
    "# Завдання 16"
   ]
  },
  {
   "cell_type": "code",
   "execution_count": 60,
   "id": "d9091041",
   "metadata": {},
   "outputs": [],
   "source": [
    "matrix = np.random.rand(3, 4)\n",
    "vector = np.random.rand(4, 1)\n",
    "result = np.dot(matrix, vector)"
   ]
  },
  {
   "cell_type": "code",
   "execution_count": 61,
   "id": "34c833a5",
   "metadata": {},
   "outputs": [
    {
     "name": "stdout",
     "output_type": "stream",
     "text": [
      "Матриця 3x4:\n",
      "[[0.02338748 0.49079385 0.63553499 0.2752914 ]\n",
      " [0.95456372 0.48662783 0.8161236  0.29987915]\n",
      " [0.23063311 0.38709257 0.39947076 0.49978315]]\n",
      "\n",
      "Вектор 4x1:\n",
      "[[0.96752015]\n",
      " [0.95498544]\n",
      " [0.19616316]\n",
      " [0.46751627]]\n",
      "\n",
      "Добуток матриці на вектор:\n",
      "[[0.74470061]\n",
      " [1.68857389]\n",
      " [0.90482815]]\n"
     ]
    }
   ],
   "source": [
    "print(\"Матриця 3x4:\")\n",
    "print(matrix)\n",
    "print(\"\\nВектор 4x1:\")\n",
    "print(vector)\n",
    "print(\"\\nДобуток матриці на вектор:\")\n",
    "print(result)"
   ]
  },
  {
   "cell_type": "markdown",
   "id": "fed4d660",
   "metadata": {},
   "source": [
    "# Завдання 17"
   ]
  },
  {
   "cell_type": "code",
   "execution_count": 62,
   "id": "544cf18e",
   "metadata": {},
   "outputs": [],
   "source": [
    "matrix = np.random.rand(3, 4)\n",
    "vector = np.random.randint(1, 11, size=(4, 1))\n",
    "result = np.dot(matrix, vector)"
   ]
  },
  {
   "cell_type": "code",
   "execution_count": 63,
   "id": "5cb07c85",
   "metadata": {},
   "outputs": [
    {
     "name": "stdout",
     "output_type": "stream",
     "text": [
      "Матриця 3x4:\n",
      "[[0.70627244 0.18442942 0.16847078 0.37914932]\n",
      " [0.62365465 0.32810766 0.34849666 0.72487851]\n",
      " [0.53184499 0.65306444 0.41874892 0.93396515]]\n",
      "\n",
      "Вектор 4x1:\n",
      "[[1]\n",
      " [4]\n",
      " [5]\n",
      " [5]]\n",
      "\n",
      "Добуток матриці на вектор:\n",
      "[[4.18209062]\n",
      " [7.30296118]\n",
      " [9.90767312]]\n"
     ]
    }
   ],
   "source": [
    "print(\"Матриця 3x4:\")\n",
    "print(matrix)\n",
    "print(\"\\nВектор 4x1:\")\n",
    "print(vector)\n",
    "print(\"\\nДобуток матриці на вектор:\")\n",
    "print(result)"
   ]
  },
  {
   "cell_type": "markdown",
   "id": "e2aec32e",
   "metadata": {},
   "source": [
    "# Завдання 18"
   ]
  },
  {
   "cell_type": "code",
   "execution_count": 64,
   "id": "625952bc",
   "metadata": {},
   "outputs": [],
   "source": [
    "matrix = np.random.rand(3, 4)\n",
    "vector = np.random.rand(4, 1)\n",
    "result = np.dot(matrix, vector)"
   ]
  },
  {
   "cell_type": "code",
   "execution_count": 65,
   "id": "c4454c06",
   "metadata": {},
   "outputs": [
    {
     "name": "stdout",
     "output_type": "stream",
     "text": [
      "Матриця 3x4:\n",
      "[[0.23387556 0.11596459 0.81532585 0.87920918]\n",
      " [0.59798016 0.99187023 0.45296935 0.31695762]\n",
      " [0.97175352 0.6795806  0.98291979 0.923011  ]]\n",
      "\n",
      "Вектор 4x1:\n",
      "[[0.79269642]\n",
      " [0.36458491]\n",
      " [0.73408447]\n",
      " [0.26782423]]\n",
      "\n",
      "Добуток матриці на вектор:\n",
      "[[1.06166282]\n",
      " [1.25304435]\n",
      " [1.98682122]]\n"
     ]
    }
   ],
   "source": [
    "print(\"Матриця 3x4:\")\n",
    "print(matrix)\n",
    "print(\"\\nВектор 4x1:\")\n",
    "print(vector)\n",
    "print(\"\\nДобуток матриці на вектор:\")\n",
    "print(result)"
   ]
  },
  {
   "cell_type": "markdown",
   "id": "b1984253",
   "metadata": {},
   "source": [
    "# Завдання 19"
   ]
  },
  {
   "cell_type": "code",
   "execution_count": 68,
   "id": "cd948cbd",
   "metadata": {},
   "outputs": [],
   "source": [
    "matrix = np.random.randint(1, 11, size=(3, 4))\n",
    "vector = np.random.rand(4, 1)\n",
    "result = np.dot(matrix, vector)"
   ]
  },
  {
   "cell_type": "code",
   "execution_count": 69,
   "id": "8b88f7ef",
   "metadata": {},
   "outputs": [
    {
     "name": "stdout",
     "output_type": "stream",
     "text": [
      "Матриця 3x4:\n",
      "[[1 5 9 2]\n",
      " [7 6 1 2]\n",
      " [1 9 2 5]]\n",
      "\n",
      "Вектор 4x1:\n",
      "[[0.78539367]\n",
      " [0.81499554]\n",
      " [0.38960112]\n",
      " [0.2659966 ]]\n",
      "\n",
      "Добуток матриці на вектор:\n",
      "[[ 8.89877469]\n",
      " [11.30932329]\n",
      " [10.22953881]]\n"
     ]
    }
   ],
   "source": [
    "print(\"Матриця 3x4:\")\n",
    "print(matrix)\n",
    "print(\"\\nВектор 4x1:\")\n",
    "print(vector)\n",
    "print(\"\\nДобуток матриці на вектор:\")\n",
    "print(result)"
   ]
  },
  {
   "cell_type": "markdown",
   "id": "cf40d8bd",
   "metadata": {},
   "source": [
    "# Завдання 20"
   ]
  },
  {
   "cell_type": "code",
   "execution_count": 66,
   "id": "ba830d58",
   "metadata": {},
   "outputs": [],
   "source": [
    "matrix = np.random.rand(3, 4)\n",
    "vector = np.random.rand(4, 1)\n",
    "result = np.dot(matrix, vector)"
   ]
  },
  {
   "cell_type": "code",
   "execution_count": 67,
   "id": "1df03976",
   "metadata": {},
   "outputs": [
    {
     "name": "stdout",
     "output_type": "stream",
     "text": [
      "Матриця 3x4:\n",
      "[[0.18731634 0.07109012 0.64088552 0.63542631]\n",
      " [0.56886749 0.33596063 0.91413697 0.17315137]\n",
      " [0.09346246 0.15667044 0.56512071 0.72666455]]\n",
      "\n",
      "Вектор 4x1:\n",
      "[[0.54006304]\n",
      " [0.06930889]\n",
      " [0.02067253]\n",
      " [0.46868039]]\n",
      "\n",
      "Добуток матриці на вектор:\n",
      "[[0.41715038]\n",
      " [0.43055954]\n",
      " [0.41359017]]\n"
     ]
    }
   ],
   "source": [
    "print(\"Матриця 3x4:\")\n",
    "print(matrix)\n",
    "print(\"\\nВектор 4x1:\")\n",
    "print(vector)\n",
    "print(\"\\nДобуток матриці на вектор:\")\n",
    "print(result)"
   ]
  },
  {
   "cell_type": "markdown",
   "id": "f95f4b0e",
   "metadata": {},
   "source": [
    "# Завдання 21"
   ]
  },
  {
   "cell_type": "code",
   "execution_count": 70,
   "id": "7d07737c",
   "metadata": {},
   "outputs": [],
   "source": [
    "matrix = np.random.randint(1, 11, size=(3, 4))\n",
    "vector = np.random.rand(4, 1)\n",
    "result = np.dot(matrix, vector)"
   ]
  },
  {
   "cell_type": "code",
   "execution_count": 71,
   "id": "5288094e",
   "metadata": {},
   "outputs": [
    {
     "name": "stdout",
     "output_type": "stream",
     "text": [
      "Матриця 3x4:\n",
      "[[ 7  1 10  8]\n",
      " [ 2  9  2  4]\n",
      " [10  5  8  2]]\n",
      "\n",
      "Вектор 4x1:\n",
      "[[0.51838514]\n",
      " [0.44191584]\n",
      " [0.51406158]\n",
      " [0.14436297]]\n",
      "\n",
      "Добуток матриці на вектор:\n",
      "[[10.36613139]\n",
      " [ 6.61958787]\n",
      " [11.79464918]]\n"
     ]
    }
   ],
   "source": [
    "print(\"Матриця 3x4:\")\n",
    "print(matrix)\n",
    "print(\"\\nВектор 4x1:\")\n",
    "print(vector)\n",
    "print(\"\\nДобуток матриці на вектор:\")\n",
    "print(result)"
   ]
  },
  {
   "cell_type": "markdown",
   "id": "4f9d3425",
   "metadata": {},
   "source": [
    "# Завдання 22"
   ]
  },
  {
   "cell_type": "code",
   "execution_count": 72,
   "id": "e6047c53",
   "metadata": {},
   "outputs": [],
   "source": [
    "matrix = np.random.rand(3, 4)\n",
    "vector = np.random.randint(1, 11, size=(4, 1))\n",
    "result = np.dot(matrix, vector)"
   ]
  },
  {
   "cell_type": "code",
   "execution_count": 73,
   "id": "e9d00d83",
   "metadata": {},
   "outputs": [
    {
     "name": "stdout",
     "output_type": "stream",
     "text": [
      "Матриця 3x4:\n",
      "[[0.88698354 0.57930768 0.92399923 0.19933368]\n",
      " [0.63443862 0.73266478 0.67298804 0.25996321]\n",
      " [0.1520036  0.98779344 0.03426305 0.30268604]]\n",
      "\n",
      "Вектор 4x1:\n",
      "[[1]\n",
      " [7]\n",
      " [7]\n",
      " [6]]\n",
      "\n",
      "Добуток матриці на вектор:\n",
      "[[12.60613397]\n",
      " [12.03378757]\n",
      " [ 9.12251528]]\n"
     ]
    }
   ],
   "source": [
    "print(\"Матриця 3x4:\")\n",
    "print(matrix)\n",
    "print(\"\\nВектор 4x1:\")\n",
    "print(vector)\n",
    "print(\"\\nДобуток матриці на вектор:\")\n",
    "print(result)"
   ]
  },
  {
   "cell_type": "markdown",
   "id": "d8d1ac2e",
   "metadata": {},
   "source": [
    "# Завдання 23"
   ]
  },
  {
   "cell_type": "code",
   "execution_count": 74,
   "id": "4a6dc6d4",
   "metadata": {},
   "outputs": [],
   "source": [
    "matrix = np.random.randint(1, 11, size=(3, 4))\n",
    "vector = np.random.randint(1, 11, size=(4, 1))\n",
    "result = np.dot(matrix, vector)"
   ]
  },
  {
   "cell_type": "code",
   "execution_count": 75,
   "id": "50c5e211",
   "metadata": {},
   "outputs": [
    {
     "name": "stdout",
     "output_type": "stream",
     "text": [
      "Матриця 3x4:\n",
      "[[ 1  7  7 10]\n",
      " [ 3 10  1  4]\n",
      " [10  5  1  3]]\n",
      "\n",
      "Вектор 4x1:\n",
      "[[2]\n",
      " [8]\n",
      " [3]\n",
      " [9]]\n",
      "\n",
      "Добуток матриці на вектор:\n",
      "[[169]\n",
      " [125]\n",
      " [ 90]]\n"
     ]
    }
   ],
   "source": [
    "print(\"Матриця 3x4:\")\n",
    "print(matrix)\n",
    "print(\"\\nВектор 4x1:\")\n",
    "print(vector)\n",
    "print(\"\\nДобуток матриці на вектор:\")\n",
    "print(result)"
   ]
  },
  {
   "cell_type": "markdown",
   "id": "7853f601",
   "metadata": {},
   "source": [
    "# Завдання 24"
   ]
  },
  {
   "cell_type": "code",
   "execution_count": 76,
   "id": "a53b2523",
   "metadata": {},
   "outputs": [],
   "source": [
    "matrix = np.random.rand(3, 4)\n",
    "vector = np.random.randint(1, 11, size=(4, 1))\n",
    "result = np.dot(matrix, vector)"
   ]
  },
  {
   "cell_type": "code",
   "execution_count": 77,
   "id": "0c53c754",
   "metadata": {},
   "outputs": [
    {
     "name": "stdout",
     "output_type": "stream",
     "text": [
      "Матриця 3x4:\n",
      "[[0.58958422 0.16388301 0.61362788 0.09420417]\n",
      " [0.1223686  0.28734761 0.40943063 0.99066914]\n",
      " [0.16769994 0.06792083 0.25427314 0.64977972]]\n",
      "\n",
      "Вектор 4x1:\n",
      "[[ 1]\n",
      " [10]\n",
      " [ 7]\n",
      " [ 6]]\n",
      "\n",
      "Добуток матриці на вектор:\n",
      "[[ 7.08903457]\n",
      " [11.80587392]\n",
      " [ 6.52549852]]\n"
     ]
    }
   ],
   "source": [
    "print(\"Матриця 3x4:\")\n",
    "print(matrix)\n",
    "print(\"\\nВектор 4x1:\")\n",
    "print(vector)\n",
    "print(\"\\nДобуток матриці на вектор:\")\n",
    "print(result)\n"
   ]
  },
  {
   "cell_type": "markdown",
   "id": "79e8d967",
   "metadata": {},
   "source": [
    "# Завдання 25"
   ]
  },
  {
   "cell_type": "code",
   "execution_count": 78,
   "id": "f8c1a6e6",
   "metadata": {},
   "outputs": [],
   "source": [
    "matrix = np.random.rand(3, 4)\n",
    "vector = np.random.rand(4, 1)\n",
    "result = np.dot(matrix, vector)"
   ]
  },
  {
   "cell_type": "code",
   "execution_count": 79,
   "id": "17802f2d",
   "metadata": {},
   "outputs": [
    {
     "name": "stdout",
     "output_type": "stream",
     "text": [
      "Матриця 3x4:\n",
      "[[0.1479274  0.29267684 0.67472009 0.84597977]\n",
      " [0.093527   0.00703822 0.04163924 0.28592675]\n",
      " [0.63399245 0.6641633  0.0348378  0.52365132]]\n",
      "\n",
      "Вектор 4x1:\n",
      "[[0.2636261 ]\n",
      " [0.22017245]\n",
      " [0.23519126]\n",
      " [0.91075667]]\n",
      "\n",
      "Добуток матриці на вектор:\n",
      "[[1.03260689]\n",
      " [0.29640865]\n",
      " [0.7984799 ]]\n"
     ]
    }
   ],
   "source": [
    "print(\"Матриця 3x4:\")\n",
    "print(matrix)\n",
    "print(\"\\nВектор 4x1:\")\n",
    "print(vector)\n",
    "print(\"\\nДобуток матриці на вектор:\")\n",
    "print(result)"
   ]
  },
  {
   "cell_type": "markdown",
   "id": "5cab77ae",
   "metadata": {},
   "source": [
    "# Завдання 26"
   ]
  },
  {
   "cell_type": "code",
   "execution_count": 80,
   "id": "638a40fc",
   "metadata": {},
   "outputs": [],
   "source": [
    "matrix = np.random.randint(1, 11, size=(3, 4))\n",
    "vector = np.random.rand(4, 1)\n",
    "result = np.dot(matrix, vector)"
   ]
  },
  {
   "cell_type": "code",
   "execution_count": 81,
   "id": "15a13912",
   "metadata": {},
   "outputs": [
    {
     "name": "stdout",
     "output_type": "stream",
     "text": [
      "Матриця 3x4:\n",
      "[[ 4 10 10  9]\n",
      " [ 1  3  4  5]\n",
      " [ 9  8 10 10]]\n",
      "\n",
      "Вектор 4x1:\n",
      "[[0.04416804]\n",
      " [0.38091287]\n",
      " [0.8790559 ]\n",
      " [0.77087328]]\n",
      "\n",
      "Добуток матриці на вектор:\n",
      "[[19.71421942]\n",
      " [ 8.55749667]\n",
      " [19.94410719]]\n"
     ]
    }
   ],
   "source": [
    "print(\"Матриця 3x4:\")\n",
    "print(matrix)\n",
    "print(\"\\nВектор 4x1:\")\n",
    "print(vector)\n",
    "print(\"\\nДобуток матриці на вектор:\")\n",
    "print(result)"
   ]
  },
  {
   "cell_type": "markdown",
   "id": "d0b6ce1e",
   "metadata": {},
   "source": [
    "# Завдання 27"
   ]
  },
  {
   "cell_type": "code",
   "execution_count": 82,
   "id": "e9be7ff2",
   "metadata": {},
   "outputs": [
    {
     "name": "stdout",
     "output_type": "stream",
     "text": [
      "Матриця 3x4:\n",
      "[[ 9  5 10  3]\n",
      " [10 10  5  9]\n",
      " [ 5  3  4  9]]\n",
      "\n",
      "Вектор 4x1:\n",
      "[[5]\n",
      " [2]\n",
      " [3]\n",
      " [3]]\n",
      "\n",
      "Добуток матриці на вектор:\n",
      "[[ 94]\n",
      " [112]\n",
      " [ 70]]\n"
     ]
    }
   ],
   "source": [
    "matrix = np.random.randint(1, 11, size=(3, 4))\n",
    "vector = np.random.randint(1, 11, size=(4, 1))\n",
    "result = np.dot(matrix, vector)\n",
    "\n",
    "print(\"Матриця 3x4:\")\n",
    "print(matrix)\n",
    "print(\"\\nВектор 4x1:\")\n",
    "print(vector)\n",
    "print(\"\\nДобуток матриці на вектор:\")\n",
    "print(result)"
   ]
  },
  {
   "cell_type": "markdown",
   "id": "e3075346",
   "metadata": {},
   "source": [
    "# Завдання 28"
   ]
  },
  {
   "cell_type": "code",
   "execution_count": 83,
   "id": "c05d3749",
   "metadata": {},
   "outputs": [
    {
     "name": "stdout",
     "output_type": "stream",
     "text": [
      "Матриця 3x4:\n",
      "[[0.42935508 0.99652805 0.3547043  0.80785537]\n",
      " [0.60441141 0.02825651 0.33731526 0.95056277]\n",
      " [0.01854186 0.88914074 0.64042507 0.13703587]]\n",
      "\n",
      "Вектор 4x1:\n",
      "[[ 7]\n",
      " [ 5]\n",
      " [10]\n",
      " [ 8]]\n",
      "\n",
      "Добуток матриці на вектор:\n",
      "[[17.99801173]\n",
      " [15.34981718]\n",
      " [12.07603438]]\n"
     ]
    }
   ],
   "source": [
    "matrix = np.random.rand(3, 4)\n",
    "vector = np.random.randint(1, 11, size=(4, 1))\n",
    "result = np.dot(matrix, vector)\n",
    "\n",
    "print(\"Матриця 3x4:\")\n",
    "print(matrix)\n",
    "print(\"\\nВектор 4x1:\")\n",
    "print(vector)\n",
    "print(\"\\nДобуток матриці на вектор:\")\n",
    "print(result)"
   ]
  },
  {
   "cell_type": "markdown",
   "id": "4f09ce91",
   "metadata": {},
   "source": [
    "# Завдання 29"
   ]
  },
  {
   "cell_type": "code",
   "execution_count": 84,
   "id": "6532d4a4",
   "metadata": {},
   "outputs": [
    {
     "name": "stdout",
     "output_type": "stream",
     "text": [
      "Матриця 3x4:\n",
      "[[0.44300705 0.90402714 0.76246719 0.67654615]\n",
      " [0.33721078 0.31934835 0.46357913 0.85829898]\n",
      " [0.46685125 0.55505031 0.47875144 0.19847508]]\n",
      "\n",
      "Вектор 4x1:\n",
      "[[0.62712084]\n",
      " [0.70361624]\n",
      " [0.76133367]\n",
      " [0.41870029]]\n",
      "\n",
      "Добуток матриці на вектор:\n",
      "[[1.77766914]\n",
      " [1.14847903]\n",
      " [1.13090572]]\n"
     ]
    }
   ],
   "source": [
    "matrix = np.random.rand(3, 4)\n",
    "vector = np.random.rand(4, 1)\n",
    "result = np.dot(matrix, vector)\n",
    "\n",
    "print(\"Матриця 3x4:\")\n",
    "print(matrix)\n",
    "print(\"\\nВектор 4x1:\")\n",
    "print(vector)\n",
    "print(\"\\nДобуток матриці на вектор:\")\n",
    "print(result)"
   ]
  },
  {
   "cell_type": "markdown",
   "id": "da013165",
   "metadata": {},
   "source": [
    "# Завдання 30"
   ]
  },
  {
   "cell_type": "code",
   "execution_count": 85,
   "id": "3500b665",
   "metadata": {},
   "outputs": [
    {
     "name": "stdout",
     "output_type": "stream",
     "text": [
      "Матриця 3x4:\n",
      "[[0.81610886 0.97916426 0.21991567 0.49182309]\n",
      " [0.35801037 0.38624158 0.68999853 0.06874366]\n",
      " [0.17068605 0.83930987 0.02945367 0.72975412]]\n",
      "\n",
      "Вектор 4x1:\n",
      "[[0.71731067]\n",
      " [0.22983654]\n",
      " [0.33207093]\n",
      " [0.12085699]]\n",
      "\n",
      "Добуток матриці на вектор:\n",
      "[[0.94291918]\n",
      " [0.5830137 ]\n",
      " [0.41331559]]\n"
     ]
    }
   ],
   "source": [
    "matrix = np.random.rand(3, 4)\n",
    "vector = np.random.rand(4, 1)\n",
    "result = np.dot(matrix, vector)\n",
    "\n",
    "print(\"Матриця 3x4:\")\n",
    "print(matrix)\n",
    "print(\"\\nВектор 4x1:\")\n",
    "print(vector)\n",
    "print(\"\\nДобуток матриці на вектор:\")\n",
    "print(result)"
   ]
  },
  {
   "cell_type": "markdown",
   "id": "0f2c19a7",
   "metadata": {},
   "source": [
    "Висновок \n",
    "Для генерації матриць і векторів з випадковими значеннями використовуються функції з бібліотеки NumPy, \n",
    "такі як np.random.randint() для цілих чисел і np.random.rand() для дійсних чисел.\n",
    "Операція множення матриці на вектор обчислюється за допомогою функції np.dot(), яка реалізує стандартне матричне множення."
   ]
  }
 ],
 "metadata": {
  "kernelspec": {
   "display_name": "Python 3 (ipykernel)",
   "language": "python",
   "name": "python3"
  },
  "language_info": {
   "codemirror_mode": {
    "name": "ipython",
    "version": 3
   },
   "file_extension": ".py",
   "mimetype": "text/x-python",
   "name": "python",
   "nbconvert_exporter": "python",
   "pygments_lexer": "ipython3",
   "version": "3.11.4"
  }
 },
 "nbformat": 4,
 "nbformat_minor": 5
}
