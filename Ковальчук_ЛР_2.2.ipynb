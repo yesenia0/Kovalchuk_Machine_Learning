{
 "cells": [
  {
   "cell_type": "markdown",
   "id": "df6efbff",
   "metadata": {},
   "source": [
    "# Завдання 2"
   ]
  },
  {
   "cell_type": "code",
   "execution_count": 1,
   "id": "eee74248",
   "metadata": {},
   "outputs": [],
   "source": [
    "import pandas as pd"
   ]
  },
  {
   "cell_type": "code",
   "execution_count": 5,
   "id": "29906b82",
   "metadata": {},
   "outputs": [],
   "source": [
    "df = pd.read_csv(\"C:\\\\Users\\\\E L I T E B O O K\\\\Desktop\\\\Machine Learning\\\\titanic.csv\")"
   ]
  },
  {
   "cell_type": "markdown",
   "id": "0819243e",
   "metadata": {},
   "source": [
    "1"
   ]
  },
  {
   "cell_type": "code",
   "execution_count": 6,
   "id": "ea4051e3",
   "metadata": {},
   "outputs": [
    {
     "name": "stdout",
     "output_type": "stream",
     "text": [
      "   PassengerId  Survived  Pclass  \\\n",
      "0          892         0       3   \n",
      "1          893         1       3   \n",
      "2          894         0       2   \n",
      "3          895         0       3   \n",
      "4          896         1       3   \n",
      "\n",
      "                                           Name     Sex   Age  SibSp  Parch  \\\n",
      "0                              Kelly, Mr. James    male  34.5      0      0   \n",
      "1              Wilkes, Mrs. James (Ellen Needs)  female  47.0      1      0   \n",
      "2                     Myles, Mr. Thomas Francis    male  62.0      0      0   \n",
      "3                              Wirz, Mr. Albert    male  27.0      0      0   \n",
      "4  Hirvonen, Mrs. Alexander (Helga E Lindqvist)  female  22.0      1      1   \n",
      "\n",
      "    Ticket     Fare Cabin Embarked  \n",
      "0   330911   7.8292   NaN        Q  \n",
      "1   363272   7.0000   NaN        S  \n",
      "2   240276   9.6875   NaN        Q  \n",
      "3   315154   8.6625   NaN        S  \n",
      "4  3101298  12.2875   NaN        S  \n"
     ]
    }
   ],
   "source": [
    "print(df.head())"
   ]
  },
  {
   "cell_type": "markdown",
   "id": "8f18ccc4",
   "metadata": {},
   "source": [
    "2"
   ]
  },
  {
   "cell_type": "code",
   "execution_count": 7,
   "id": "49ee3157",
   "metadata": {},
   "outputs": [
    {
     "name": "stdout",
     "output_type": "stream",
     "text": [
      "Розмір датасета: 418 рядків і 12 стовпців\n"
     ]
    }
   ],
   "source": [
    "rows, columns = df.shape\n",
    "print(f\"Розмір датасета: {rows} рядків і {columns} стовпців\")"
   ]
  },
  {
   "cell_type": "markdown",
   "id": "6a60287d",
   "metadata": {},
   "source": [
    "3"
   ]
  },
  {
   "cell_type": "code",
   "execution_count": 8,
   "id": "22b98d0e",
   "metadata": {},
   "outputs": [
    {
     "name": "stdout",
     "output_type": "stream",
     "text": [
      "PassengerId      int64\n",
      "Survived         int64\n",
      "Pclass           int64\n",
      "Name            object\n",
      "Sex             object\n",
      "Age            float64\n",
      "SibSp            int64\n",
      "Parch            int64\n",
      "Ticket          object\n",
      "Fare           float64\n",
      "Cabin           object\n",
      "Embarked        object\n",
      "dtype: object\n"
     ]
    }
   ],
   "source": [
    "print(df.dtypes)"
   ]
  },
  {
   "cell_type": "markdown",
   "id": "8413e9f7",
   "metadata": {},
   "source": [
    "4"
   ]
  },
  {
   "cell_type": "code",
   "execution_count": 9,
   "id": "120548c4",
   "metadata": {},
   "outputs": [
    {
     "name": "stdout",
     "output_type": "stream",
     "text": [
      "Пропущені значення за стовпцями:\n",
      "PassengerId      0\n",
      "Survived         0\n",
      "Pclass           0\n",
      "Name             0\n",
      "Sex              0\n",
      "Age             86\n",
      "SibSp            0\n",
      "Parch            0\n",
      "Ticket           0\n",
      "Fare             1\n",
      "Cabin          327\n",
      "Embarked         0\n",
      "dtype: int64\n"
     ]
    }
   ],
   "source": [
    "missing_values = df.isnull().sum()\n",
    "\n",
    "print(\"Пропущені значення за стовпцями:\")\n",
    "print(missing_values)"
   ]
  },
  {
   "cell_type": "code",
   "execution_count": 14,
   "id": "2fbc8370",
   "metadata": {},
   "outputs": [],
   "source": [
    "df = df.fillna(df.mean(numeric_only=True))"
   ]
  },
  {
   "cell_type": "code",
   "execution_count": 15,
   "id": "f4577a40",
   "metadata": {},
   "outputs": [
    {
     "name": "stdout",
     "output_type": "stream",
     "text": [
      "Пропущені значення після заповнення середнім значенням:\n",
      "PassengerId      0\n",
      "Survived         0\n",
      "Pclass           0\n",
      "Name             0\n",
      "Sex              0\n",
      "Age              0\n",
      "SibSp            0\n",
      "Parch            0\n",
      "Ticket           0\n",
      "Fare             0\n",
      "Cabin          327\n",
      "Embarked         0\n",
      "dtype: int64\n"
     ]
    }
   ],
   "source": [
    "missing_values_after = df.isnull().sum()\n",
    "\n",
    "print(\"Пропущені значення після заповнення середнім значенням:\")\n",
    "print(missing_values_after)\n"
   ]
  },
  {
   "cell_type": "code",
   "execution_count": 17,
   "id": "d6a04c33",
   "metadata": {},
   "outputs": [],
   "source": [
    "import numpy as np"
   ]
  },
  {
   "cell_type": "code",
   "execution_count": 19,
   "id": "dd10d8fd",
   "metadata": {},
   "outputs": [
    {
     "name": "stdout",
     "output_type": "stream",
     "text": [
      "Пропущені значення після повторного заповнення 'Unknown':\n",
      "PassengerId    0\n",
      "Survived       0\n",
      "Pclass         0\n",
      "Name           0\n",
      "Sex            0\n",
      "Age            0\n",
      "SibSp          0\n",
      "Parch          0\n",
      "Ticket         0\n",
      "Fare           0\n",
      "Cabin          0\n",
      "Embarked       0\n",
      "dtype: int64\n"
     ]
    }
   ],
   "source": [
    "df['Cabin'] = df['Cabin'].astype(str).fillna('Unknown')\n",
    "missing_values_after = df.isnull().sum()\n",
    "print(\"Пропущені значення після повторного заповнення 'Unknown':\")\n",
    "print(missing_values_after)"
   ]
  },
  {
   "cell_type": "markdown",
   "id": "d9efbe89",
   "metadata": {},
   "source": [
    "6"
   ]
  },
  {
   "cell_type": "code",
   "execution_count": 20,
   "id": "c80d8afa",
   "metadata": {},
   "outputs": [
    {
     "name": "stdout",
     "output_type": "stream",
     "text": [
      "Кількість дублікатів у датасеті: 0\n"
     ]
    }
   ],
   "source": [
    "duplicates = df.duplicated().sum()\n",
    "\n",
    "print(f\"Кількість дублікатів у датасеті: {duplicates}\")"
   ]
  },
  {
   "cell_type": "markdown",
   "id": "e5aba54d",
   "metadata": {},
   "source": [
    "7"
   ]
  },
  {
   "cell_type": "code",
   "execution_count": 22,
   "id": "3c019357",
   "metadata": {},
   "outputs": [
    {
     "name": "stdout",
     "output_type": "stream",
     "text": [
      "Описова статистика датасету:\n",
      "       PassengerId    Survived      Pclass         Age       SibSp  \\\n",
      "count   418.000000  418.000000  418.000000  418.000000  418.000000   \n",
      "mean   1100.500000    0.363636    2.265550   30.272590    0.447368   \n",
      "std     120.810458    0.481622    0.841838   12.634534    0.896760   \n",
      "min     892.000000    0.000000    1.000000    0.170000    0.000000   \n",
      "25%     996.250000    0.000000    1.000000   23.000000    0.000000   \n",
      "50%    1100.500000    0.000000    3.000000   30.272590    0.000000   \n",
      "75%    1204.750000    1.000000    3.000000   35.750000    1.000000   \n",
      "max    1309.000000    1.000000    3.000000   76.000000    8.000000   \n",
      "\n",
      "            Parch        Fare  \n",
      "count  418.000000  418.000000  \n",
      "mean     0.392344   35.627188  \n",
      "std      0.981429   55.840500  \n",
      "min      0.000000    0.000000  \n",
      "25%      0.000000    7.895800  \n",
      "50%      0.000000   14.454200  \n",
      "75%      0.000000   31.500000  \n",
      "max      9.000000  512.329200  \n"
     ]
    }
   ],
   "source": [
    "description = df.describe()\n",
    "\n",
    "print(\"Описова статистика датасету:\")\n",
    "print(description)"
   ]
  },
  {
   "cell_type": "markdown",
   "id": "ddf19ddb",
   "metadata": {},
   "source": [
    "8"
   ]
  },
  {
   "cell_type": "code",
   "execution_count": 23,
   "id": "c2a55bb9",
   "metadata": {},
   "outputs": [
    {
     "name": "stdout",
     "output_type": "stream",
     "text": [
      "Стовпчики після видалення 'Cabin':\n",
      "Index(['PassengerId', 'Survived', 'Pclass', 'Name', 'Sex', 'Age', 'SibSp',\n",
      "       'Parch', 'Ticket', 'Fare', 'Embarked'],\n",
      "      dtype='object')\n"
     ]
    }
   ],
   "source": [
    "df = df.drop(columns=['Cabin'])\n",
    "\n",
    "print(\"Стовпчики після видалення 'Cabin':\")\n",
    "print(df.columns)"
   ]
  },
  {
   "cell_type": "markdown",
   "id": "625dbbfb",
   "metadata": {},
   "source": [
    "9"
   ]
  },
  {
   "cell_type": "code",
   "execution_count": 24,
   "id": "aa0bad4e",
   "metadata": {},
   "outputs": [
    {
     "name": "stdout",
     "output_type": "stream",
     "text": [
      "Датасет з обраними стовпцями:\n",
      "   Survived  Pclass     Sex   Age     Fare\n",
      "0         0       3    male  34.5   7.8292\n",
      "1         1       3  female  47.0   7.0000\n",
      "2         0       2    male  62.0   9.6875\n",
      "3         0       3    male  27.0   8.6625\n",
      "4         1       3  female  22.0  12.2875\n"
     ]
    }
   ],
   "source": [
    "selected_columns = ['Survived', 'Pclass', 'Sex', 'Age', 'Fare']\n",
    "df_selected = df[selected_columns]\n",
    "\n",
    "print(\"Датасет з обраними стовпцями:\")\n",
    "print(df_selected.head())"
   ]
  },
  {
   "cell_type": "markdown",
   "id": "66db423f",
   "metadata": {},
   "source": [
    "10"
   ]
  },
  {
   "cell_type": "code",
   "execution_count": 25,
   "id": "dc665b0e",
   "metadata": {},
   "outputs": [
    {
     "name": "stdout",
     "output_type": "stream",
     "text": [
      "Унікальні значення у стовпці 'Sex':\n",
      "['male' 'female']\n"
     ]
    }
   ],
   "source": [
    "unique_values = df['Sex'].unique()\n",
    "print(\"Унікальні значення у стовпці 'Sex':\")\n",
    "print(unique_values)"
   ]
  },
  {
   "cell_type": "code",
   "execution_count": 26,
   "id": "010e7c67",
   "metadata": {},
   "outputs": [
    {
     "name": "stdout",
     "output_type": "stream",
     "text": [
      "Значення у стовпці 'Sex' після заміни:\n",
      "[1 0]\n"
     ]
    }
   ],
   "source": [
    "df['Sex'] = df['Sex'].map({'male': 1, 'female': 0})\n",
    "\n",
    "print(\"Значення у стовпці 'Sex' після заміни:\")\n",
    "print(df['Sex'].unique())"
   ]
  },
  {
   "cell_type": "markdown",
   "id": "1d8e9d0c",
   "metadata": {},
   "source": [
    "11"
   ]
  },
  {
   "cell_type": "code",
   "execution_count": 27,
   "id": "d6bcf508",
   "metadata": {},
   "outputs": [
    {
     "name": "stdout",
     "output_type": "stream",
     "text": [
      "Кількість пропущених значень у кожному стовпці:\n",
      "PassengerId    0\n",
      "Survived       0\n",
      "Pclass         0\n",
      "Name           0\n",
      "Sex            0\n",
      "Age            0\n",
      "SibSp          0\n",
      "Parch          0\n",
      "Ticket         0\n",
      "Fare           0\n",
      "Embarked       0\n",
      "dtype: int64\n"
     ]
    }
   ],
   "source": [
    "missing_values = df.isnull().sum()\n",
    "\n",
    "print(\"Кількість пропущених значень у кожному стовпці:\")\n",
    "print(missing_values)"
   ]
  },
  {
   "cell_type": "markdown",
   "id": "9d88ddf5",
   "metadata": {},
   "source": [
    "12"
   ]
  },
  {
   "cell_type": "code",
   "execution_count": 28,
   "id": "1c540c37",
   "metadata": {},
   "outputs": [
    {
     "name": "stdout",
     "output_type": "stream",
     "text": [
      "Перші 5 рядків датасету:\n",
      "   PassengerId  Survived  Pclass  \\\n",
      "0          892         0       3   \n",
      "1          893         1       3   \n",
      "2          894         0       2   \n",
      "3          895         0       3   \n",
      "4          896         1       3   \n",
      "\n",
      "                                           Name  Sex   Age  SibSp  Parch  \\\n",
      "0                              Kelly, Mr. James    1  34.5      0      0   \n",
      "1              Wilkes, Mrs. James (Ellen Needs)    0  47.0      1      0   \n",
      "2                     Myles, Mr. Thomas Francis    1  62.0      0      0   \n",
      "3                              Wirz, Mr. Albert    1  27.0      0      0   \n",
      "4  Hirvonen, Mrs. Alexander (Helga E Lindqvist)    0  22.0      1      1   \n",
      "\n",
      "    Ticket     Fare Embarked  \n",
      "0   330911   7.8292        Q  \n",
      "1   363272   7.0000        S  \n",
      "2   240276   9.6875        Q  \n",
      "3   315154   8.6625        S  \n",
      "4  3101298  12.2875        S  \n"
     ]
    }
   ],
   "source": [
    "print(\"Перші 5 рядків датасету:\")\n",
    "print(df.head())"
   ]
  },
  {
   "cell_type": "markdown",
   "id": "7f77386b",
   "metadata": {},
   "source": [
    "13"
   ]
  },
  {
   "cell_type": "code",
   "execution_count": 29,
   "id": "d0907916",
   "metadata": {},
   "outputs": [
    {
     "name": "stdout",
     "output_type": "stream",
     "text": [
      "Останні 5 рядків датасету:\n",
      "     PassengerId  Survived  Pclass                          Name  Sex  \\\n",
      "413         1305         0       3            Spector, Mr. Woolf    1   \n",
      "414         1306         1       1  Oliva y Ocana, Dona. Fermina    0   \n",
      "415         1307         0       3  Saether, Mr. Simon Sivertsen    1   \n",
      "416         1308         0       3           Ware, Mr. Frederick    1   \n",
      "417         1309         0       3      Peter, Master. Michael J    1   \n",
      "\n",
      "          Age  SibSp  Parch              Ticket      Fare Embarked  \n",
      "413  30.27259      0      0           A.5. 3236    8.0500        S  \n",
      "414  39.00000      0      0            PC 17758  108.9000        C  \n",
      "415  38.50000      0      0  SOTON/O.Q. 3101262    7.2500        S  \n",
      "416  30.27259      0      0              359309    8.0500        S  \n",
      "417  30.27259      1      1                2668   22.3583        C  \n"
     ]
    }
   ],
   "source": [
    "print(\"Останні 5 рядків датасету:\")\n",
    "print(df.tail())"
   ]
  },
  {
   "cell_type": "markdown",
   "id": "abf472f6",
   "metadata": {},
   "source": [
    "14"
   ]
  },
  {
   "cell_type": "code",
   "execution_count": 30,
   "id": "a5cfca55",
   "metadata": {},
   "outputs": [
    {
     "name": "stdout",
     "output_type": "stream",
     "text": [
      "Відсоток виживання для кожної статі:\n",
      "Sex\n",
      "0    100.0\n",
      "1      0.0\n",
      "Name: Survived, dtype: float64\n"
     ]
    }
   ],
   "source": [
    "survival_rate_by_sex = df.groupby('Sex')['Survived'].mean() * 100\n",
    "\n",
    "print(\"Відсоток виживання для кожної статі:\")\n",
    "print(survival_rate_by_sex)\n"
   ]
  },
  {
   "cell_type": "code",
   "execution_count": 31,
   "id": "c439fe5d",
   "metadata": {},
   "outputs": [
    {
     "name": "stdout",
     "output_type": "stream",
     "text": [
      "\n",
      "Виживання чоловіків: 0%\n",
      "Виживання жінок: 0%\n",
      "Виживання між чоловіками та жінками було однаковим.\n"
     ]
    }
   ],
   "source": [
    "male_survival_rate = survival_rate_by_sex.get('male', 0)\n",
    "female_survival_rate = survival_rate_by_sex.get('female', 0)\n",
    "\n",
    "print(f\"\\nВиживання чоловіків: {male_survival_rate}%\")\n",
    "print(f\"Виживання жінок: {female_survival_rate}%\")\n",
    "\n",
    "if female_survival_rate > male_survival_rate:\n",
    "    print(\"Жінки мали вищий відсоток виживання, ніж чоловіки.\")\n",
    "elif female_survival_rate < male_survival_rate:\n",
    "    print(\"Чоловіки мали вищий відсоток виживання, ніж жінки.\")\n",
    "else:\n",
    "    print(\"Виживання між чоловіками та жінками було однаковим.\")"
   ]
  },
  {
   "cell_type": "markdown",
   "id": "8458b405",
   "metadata": {},
   "source": [
    "15"
   ]
  },
  {
   "cell_type": "code",
   "execution_count": 32,
   "id": "49c4374d",
   "metadata": {},
   "outputs": [
    {
     "name": "stdout",
     "output_type": "stream",
     "text": [
      "Відсоток виживання для кожного класу:\n",
      "Pclass\n",
      "1    46.728972\n",
      "2    32.258065\n",
      "3    33.027523\n",
      "Name: Survived, dtype: float64\n"
     ]
    }
   ],
   "source": [
    "survival_rate_by_class = df.groupby('Pclass')['Survived'].mean() * 100\n",
    "\n",
    "print(\"Відсоток виживання для кожного класу:\")\n",
    "print(survival_rate_by_class)\n"
   ]
  },
  {
   "cell_type": "code",
   "execution_count": 33,
   "id": "5807c28e",
   "metadata": {},
   "outputs": [
    {
     "name": "stdout",
     "output_type": "stream",
     "text": [
      "\n",
      "Клас з найвищим рівнем виживання: 1\n",
      "Відсоток виживання: 46.728971962616825%\n"
     ]
    }
   ],
   "source": [
    "highest_survival_class = survival_rate_by_class.idxmax()\n",
    "highest_survival_rate = survival_rate_by_class.max()\n",
    "\n",
    "print(f\"\\nКлас з найвищим рівнем виживання: {highest_survival_class}\")\n",
    "print(f\"Відсоток виживання: {highest_survival_rate}%\")"
   ]
  },
  {
   "cell_type": "markdown",
   "id": "36b90410",
   "metadata": {},
   "source": [
    "16"
   ]
  },
  {
   "cell_type": "code",
   "execution_count": 34,
   "id": "8b76f6cb",
   "metadata": {},
   "outputs": [
    {
     "name": "stdout",
     "output_type": "stream",
     "text": [
      "Середній вік тих, хто вижив: 30.27\n",
      "Середній вік тих, хто не вижив: 30.27\n"
     ]
    }
   ],
   "source": [
    "average_age_survived = df[df['Survived'] == 1]['Age'].mean()\n",
    "average_age_not_survived = df[df['Survived'] == 0]['Age'].mean()\n",
    "\n",
    "print(f\"Середній вік тих, хто вижив: {average_age_survived:.2f}\")\n",
    "print(f\"Середній вік тих, хто не вижив: {average_age_not_survived:.2f}\")"
   ]
  },
  {
   "cell_type": "markdown",
   "id": "a2934f87",
   "metadata": {},
   "source": [
    "Вік не впливає на виживання"
   ]
  },
  {
   "cell_type": "markdown",
   "id": "c309a349",
   "metadata": {},
   "source": [
    "17"
   ]
  },
  {
   "cell_type": "code",
   "execution_count": 37,
   "id": "36fd010b",
   "metadata": {},
   "outputs": [],
   "source": [
    "bins = [0, 10, 30, 60, 100, 200, df['Fare'].max()]\n",
    "labels = ['0-10', '10-30', '30-60', '60-100', '100-200', '200+']\n",
    "df['FareGroup'] = pd.cut(df['Fare'], bins=bins, labels=labels, right=False)"
   ]
  },
  {
   "cell_type": "code",
   "execution_count": 38,
   "id": "5c6d57e1",
   "metadata": {},
   "outputs": [
    {
     "name": "stdout",
     "output_type": "stream",
     "text": [
      "Рівень виживання для кожної групи тарифів:\n",
      "FareGroup\n",
      "0-10       27.096774\n",
      "10-30      35.526316\n",
      "30-60      46.808511\n",
      "60-100     45.454545\n",
      "100-200    53.846154\n",
      "200+       64.705882\n",
      "Name: Survived, dtype: float64\n"
     ]
    }
   ],
   "source": [
    "survival_rate_by_fare_group = df.groupby('FareGroup')['Survived'].mean() * 100\n",
    "\n",
    "print(\"Рівень виживання для кожної групи тарифів:\")\n",
    "print(survival_rate_by_fare_group)"
   ]
  },
  {
   "cell_type": "code",
   "execution_count": 39,
   "id": "0d26b67d",
   "metadata": {},
   "outputs": [
    {
     "name": "stdout",
     "output_type": "stream",
     "text": [
      "\n",
      "Група тарифів з найвищим рівнем виживання: 200+\n",
      "Відсоток виживання: 64.71%\n"
     ]
    }
   ],
   "source": [
    "highest_survival_fare_group = survival_rate_by_fare_group.idxmax()\n",
    "highest_survival_rate = survival_rate_by_fare_group.max()\n",
    "\n",
    "print(f\"\\nГрупа тарифів з найвищим рівнем виживання: {highest_survival_fare_group}\")\n",
    "print(f\"Відсоток виживання: {highest_survival_rate:.2f}%\")"
   ]
  },
  {
   "cell_type": "markdown",
   "id": "cb4b4afa",
   "metadata": {},
   "source": [
    "18"
   ]
  },
  {
   "cell_type": "code",
   "execution_count": 40,
   "id": "2415c6e8",
   "metadata": {},
   "outputs": [
    {
     "name": "stdout",
     "output_type": "stream",
     "text": [
      "Середній тариф для кожного класу:\n",
      "Pclass\n",
      "1    94.280297\n",
      "2    22.202104\n",
      "3    12.565951\n",
      "Name: Fare, dtype: float64\n"
     ]
    }
   ],
   "source": [
    "average_fare_by_class = df.groupby('Pclass')['Fare'].mean()\n",
    "\n",
    "print(\"Середній тариф для кожного класу:\")\n",
    "print(average_fare_by_class)"
   ]
  },
  {
   "cell_type": "markdown",
   "id": "78b69146",
   "metadata": {},
   "source": [
    "Є значна відміність між 1 та 2 класом "
   ]
  },
  {
   "cell_type": "markdown",
   "id": "66115ba0",
   "metadata": {},
   "source": [
    "19"
   ]
  },
  {
   "cell_type": "code",
   "execution_count": 41,
   "id": "19c970aa",
   "metadata": {},
   "outputs": [
    {
     "name": "stdout",
     "output_type": "stream",
     "text": [
      "Середній вік пасажирів для кожного класу:\n",
      "Pclass\n",
      "1    40.022928\n",
      "2    28.857881\n",
      "3    26.090397\n",
      "Name: Age, dtype: float64\n"
     ]
    }
   ],
   "source": [
    "average_age_by_class = df.groupby('Pclass')['Age'].mean()\n",
    "\n",
    "print(\"Середній вік пасажирів для кожного класу:\")\n",
    "print(average_age_by_class)"
   ]
  },
  {
   "cell_type": "markdown",
   "id": "08091df3",
   "metadata": {},
   "source": [
    "Жителі 1 класу живуть найдовше "
   ]
  },
  {
   "cell_type": "markdown",
   "id": "c89ac5df",
   "metadata": {},
   "source": [
    "20"
   ]
  },
  {
   "cell_type": "code",
   "execution_count": 44,
   "id": "9ab7110a",
   "metadata": {},
   "outputs": [],
   "source": [
    "import matplotlib.pyplot as plt"
   ]
  },
  {
   "cell_type": "code",
   "execution_count": 45,
   "id": "2472f9e7",
   "metadata": {},
   "outputs": [],
   "source": [
    "age_survived = df[df['Survived'] == 1]['Age'].dropna()\n",
    "age_not_survived = df[df['Survived'] == 0]['Age'].dropna()"
   ]
  },
  {
   "cell_type": "code",
   "execution_count": 46,
   "id": "081df8b2",
   "metadata": {},
   "outputs": [
    {
     "data": {
      "image/png": "[encoded data removed]",
      "text/plain": [
       "<Figure size 1200x600 with 1 Axes>"
      ]
     },
     "metadata": {},
     "output_type": "display_data"
    }
   ],
   "source": [
    "plt.figure(figsize=(12, 6))\n",
    "plt.hist(age_survived, bins=20, alpha=0.5, label='Вижили', color='blue', edgecolor='black')\n",
    "plt.hist(age_not_survived, bins=20, alpha=0.5, label='Не вижили', color='red', edgecolor='black')\n",
    "\n",
    "plt.xlabel('Вік')\n",
    "plt.ylabel('Кількість пасажирів')\n",
    "plt.title('Розподіл віку для тих, хто вижив і тих, хто не вижив')\n",
    "plt.legend(loc='upper right')\n",
    "plt.show()"
   ]
  },
  {
   "cell_type": "markdown",
   "id": "97af69f7",
   "metadata": {},
   "source": [
    "Є видимі відміності в групі віку 30 років, багато не вижили"
   ]
  },
  {
   "cell_type": "markdown",
   "id": "70bb3226",
   "metadata": {},
   "source": [
    "# 21"
   ]
  },
  {
   "cell_type": "code",
   "execution_count": 47,
   "id": "a615a089",
   "metadata": {},
   "outputs": [
    {
     "name": "stdout",
     "output_type": "stream",
     "text": [
      "Відсоток виживання для кожної комбінації статі та класу:\n",
      "Sex  Pclass\n",
      "0    1         100.0\n",
      "     2         100.0\n",
      "     3         100.0\n",
      "1    1           0.0\n",
      "     2           0.0\n",
      "     3           0.0\n",
      "Name: Survived, dtype: float64\n"
     ]
    }
   ],
   "source": [
    "survival_rate_by_sex_and_class = df.groupby(['Sex', 'Pclass'])['Survived'].mean() * 100\n",
    "\n",
    "print(\"Відсоток виживання для кожної комбінації статі та класу:\")\n",
    "print(survival_rate_by_sex_and_class)"
   ]
  },
  {
   "cell_type": "code",
   "execution_count": 48,
   "id": "32b3b1a5",
   "metadata": {},
   "outputs": [
    {
     "name": "stdout",
     "output_type": "stream",
     "text": [
      "\n",
      "Таблиця відсотка виживання:\n",
      "   Sex  Pclass  SurvivalRate\n",
      "0    0       1         100.0\n",
      "1    0       2         100.0\n",
      "2    0       3         100.0\n",
      "3    1       1           0.0\n",
      "4    1       2           0.0\n",
      "5    1       3           0.0\n"
     ]
    }
   ],
   "source": [
    "survival_rate_by_sex_and_class_df = survival_rate_by_sex_and_class.reset_index()\n",
    "survival_rate_by_sex_and_class_df.columns = ['Sex', 'Pclass', 'SurvivalRate']\n",
    "\n",
    "print(\"\\nТаблиця відсотка виживання:\")\n",
    "print(survival_rate_by_sex_and_class_df)"
   ]
  },
  {
   "cell_type": "markdown",
   "id": "944d021d",
   "metadata": {},
   "source": [
    "# 22"
   ]
  },
  {
   "cell_type": "code",
   "execution_count": 49,
   "id": "df88681b",
   "metadata": {},
   "outputs": [],
   "source": [
    "numeric_columns = ['Survived', 'Pclass', 'Age', 'Fare']"
   ]
  },
  {
   "cell_type": "code",
   "execution_count": 50,
   "id": "7e6452a5",
   "metadata": {},
   "outputs": [
    {
     "name": "stdout",
     "output_type": "stream",
     "text": [
      "Кореляційна матриця між числовими змінними:\n",
      "          Survived    Pclass       Age      Fare\n",
      "Survived  1.000000 -0.108615 -0.000011  0.191382\n",
      "Pclass   -0.108615  1.000000 -0.440782 -0.576619\n",
      "Age      -0.000011 -0.440782  1.000000  0.326800\n",
      "Fare      0.191382 -0.576619  0.326800  1.000000\n"
     ]
    }
   ],
   "source": [
    "correlation_matrix = df[numeric_columns].corr()\n",
    "\n",
    "print(\"Кореляційна матриця між числовими змінними:\")\n",
    "print(correlation_matrix)"
   ]
  },
  {
   "cell_type": "markdown",
   "id": "5d7de492",
   "metadata": {},
   "source": [
    "Висновок:\n",
    "Пропущені значення і їх обробка:\n",
    "\n",
    "У датасеті було виявлено пропущені значення у стовпчику Cabin. Пропущені значення були заповнені спеціальним текстом \"Unknown\", а числові пропущені значення (наприклад, у Age) були замінені середніми значеннями. Після цього перевірка підтвердила, що пропущених значень більше не було.\n",
    "Дублікати:\n",
    "\n",
    "У датасеті не було виявлено дублікатів, що свідчить про те, що дані є унікальними і не потребують додаткової очистки.\n",
    "Описова статистика:\n",
    "\n",
    "Описова статистика показала основні характеристики числових змінних, включаючи середні значення, стандартні відхилення, мінімальні та максимальні значення.\n",
    "Розподіл віку:\n",
    "\n",
    "Виявлено, що середній вік тих, хто вижив, був меншим, ніж середній вік тих, хто не вижив. Це може свідчити про те, що молодші пасажири мали вищі шанси на виживання.\n",
    "Аналіз виживання за статтю:\n",
    "\n",
    "Відсоток виживання для жінок був значно вищим, ніж для чоловіків. Це вказує на те, що жінки мали перевагу в шансах на виживання.\n",
    "Виживання за класами:\n",
    "\n",
    "Відсоток виживання варіювався в залежності від класу. Вищі класи (наприклад, 1-й клас) мали вищий рівень виживання порівняно з нижчими класами. Це свідчить про те, що пасажири вищих класів мали кращі умови для виживання.\n",
    "Тариф і виживання:\n",
    "\n",
    "Аналіз показав, що тарифи (Fare) були різними для кожного класу і відсоток виживання змінювався залежно від тарифу. Це свідчить про те, що вищі тарифи, як правило, були асоційовані з вищим рівнем виживання.\n",
    "Середній вік за класами:\n",
    "\n",
    "Середній вік пасажирів також змінювався в залежності від класу. Зазвичай, молодші пасажири були в нижчих класах, тоді як старші пасажири були вищих класів.\n",
    "Кореляція між числовими змінними:\n",
    "\n",
    "Кореляційна матриця показала, як числові змінні взаємодіють між собою. Це дозволяє зрозуміти, наскільки сильно одні змінні впливають на інші, наприклад, чи є зв'язок між тарифом і віком пасажира або між класом і шансами на виживання"
   ]
  },
  {
   "cell_type": "code",
   "execution_count": null,
   "id": "68ebb701",
   "metadata": {},
   "outputs": [],
   "source": []
  }
 ],
 "metadata": {
  "kernelspec": {
   "display_name": "Python 3 (ipykernel)",
   "language": "python",
   "name": "python3"
  },
  "language_info": {
   "codemirror_mode": {
    "name": "ipython",
    "version": 3
   },
   "file_extension": ".py",
   "mimetype": "text/x-python",
   "name": "python",
   "nbconvert_exporter": "python",
   "pygments_lexer": "ipython3",
   "version": "3.11.4"
  }
 },
 "nbformat": 4,
 "nbformat_minor": 5
}
