{
 "cells": [
  {
   "cell_type": "markdown",
   "id": "9f2c4abf",
   "metadata": {},
   "source": [
    "Завдання 1"
   ]
  },
  {
   "cell_type": "code",
   "execution_count": 1,
   "id": "8d464425",
   "metadata": {},
   "outputs": [],
   "source": [
    "from sklearn.datasets import load_breast_cancer\n",
    "from sklearn.model_selection import train_test_split\n",
    "from sklearn.linear_model import LogisticRegression\n",
    "from sklearn.ensemble import RandomForestClassifier\n",
    "from sklearn.tree import DecisionTreeClassifier\n",
    "from sklearn.metrics import accuracy_score\n",
    "from sklearn.model_selection import GridSearchCV\n",
    "from sklearn.metrics import accuracy_score, confusion_matrix, classification_report\n",
    "import pandas as pd"
   ]
  },
  {
   "cell_type": "code",
   "execution_count": 2,
   "id": "b41f9691",
   "metadata": {},
   "outputs": [],
   "source": [
    "data = load_breast_cancer()\n",
    "\n",
    "# Створення DataFrame для зручного перегляду даних\n",
    "df = pd.DataFrame(data.data, columns=data.feature_names)"
   ]
  },
  {
   "cell_type": "code",
   "execution_count": 3,
   "id": "a97af38a",
   "metadata": {},
   "outputs": [],
   "source": [
    "df['target'] = data.target"
   ]
  },
  {
   "cell_type": "code",
   "execution_count": 4,
   "id": "f756024b",
   "metadata": {},
   "outputs": [
    {
     "name": "stdout",
     "output_type": "stream",
     "text": [
      "   mean radius  mean texture  mean perimeter  mean area  mean smoothness  \\\n",
      "0        17.99         10.38          122.80     1001.0          0.11840   \n",
      "1        20.57         17.77          132.90     1326.0          0.08474   \n",
      "2        19.69         21.25          130.00     1203.0          0.10960   \n",
      "3        11.42         20.38           77.58      386.1          0.14250   \n",
      "4        20.29         14.34          135.10     1297.0          0.10030   \n",
      "\n",
      "   mean compactness  mean concavity  mean concave points  mean symmetry  \\\n",
      "0           0.27760          0.3001              0.14710         0.2419   \n",
      "1           0.07864          0.0869              0.07017         0.1812   \n",
      "2           0.15990          0.1974              0.12790         0.2069   \n",
      "3           0.28390          0.2414              0.10520         0.2597   \n",
      "4           0.13280          0.1980              0.10430         0.1809   \n",
      "\n",
      "   mean fractal dimension  ...  worst texture  worst perimeter  worst area  \\\n",
      "0                 0.07871  ...          17.33           184.60      2019.0   \n",
      "1                 0.05667  ...          23.41           158.80      1956.0   \n",
      "2                 0.05999  ...          25.53           152.50      1709.0   \n",
      "3                 0.09744  ...          26.50            98.87       567.7   \n",
      "4                 0.05883  ...          16.67           152.20      1575.0   \n",
      "\n",
      "   worst smoothness  worst compactness  worst concavity  worst concave points  \\\n",
      "0            0.1622             0.6656           0.7119                0.2654   \n",
      "1            0.1238             0.1866           0.2416                0.1860   \n",
      "2            0.1444             0.4245           0.4504                0.2430   \n",
      "3            0.2098             0.8663           0.6869                0.2575   \n",
      "4            0.1374             0.2050           0.4000                0.1625   \n",
      "\n",
      "   worst symmetry  worst fractal dimension  target  \n",
      "0          0.4601                  0.11890       0  \n",
      "1          0.2750                  0.08902       0  \n",
      "2          0.3613                  0.08758       0  \n",
      "3          0.6638                  0.17300       0  \n",
      "4          0.2364                  0.07678       0  \n",
      "\n",
      "[5 rows x 31 columns]\n"
     ]
    }
   ],
   "source": [
    "print(df.head())"
   ]
  },
  {
   "cell_type": "code",
   "execution_count": 5,
   "id": "f0ed4e3b",
   "metadata": {},
   "outputs": [
    {
     "name": "stdout",
     "output_type": "stream",
     "text": [
      "Index(['mean radius', 'mean texture', 'mean perimeter', 'mean area',\n",
      "       'mean smoothness', 'mean compactness', 'mean concavity',\n",
      "       'mean concave points', 'mean symmetry', 'mean fractal dimension',\n",
      "       'radius error', 'texture error', 'perimeter error', 'area error',\n",
      "       'smoothness error', 'compactness error', 'concavity error',\n",
      "       'concave points error', 'symmetry error', 'fractal dimension error',\n",
      "       'worst radius', 'worst texture', 'worst perimeter', 'worst area',\n",
      "       'worst smoothness', 'worst compactness', 'worst concavity',\n",
      "       'worst concave points', 'worst symmetry', 'worst fractal dimension',\n",
      "       'target'],\n",
      "      dtype='object')\n",
      "mean radius                float64\n",
      "mean texture               float64\n",
      "mean perimeter             float64\n",
      "mean area                  float64\n",
      "mean smoothness            float64\n",
      "mean compactness           float64\n",
      "mean concavity             float64\n",
      "mean concave points        float64\n",
      "mean symmetry              float64\n",
      "mean fractal dimension     float64\n",
      "radius error               float64\n",
      "texture error              float64\n",
      "perimeter error            float64\n",
      "area error                 float64\n",
      "smoothness error           float64\n",
      "compactness error          float64\n",
      "concavity error            float64\n",
      "concave points error       float64\n",
      "symmetry error             float64\n",
      "fractal dimension error    float64\n",
      "worst radius               float64\n",
      "worst texture              float64\n",
      "worst perimeter            float64\n",
      "worst area                 float64\n",
      "worst smoothness           float64\n",
      "worst compactness          float64\n",
      "worst concavity            float64\n",
      "worst concave points       float64\n",
      "worst symmetry             float64\n",
      "worst fractal dimension    float64\n",
      "target                       int32\n",
      "dtype: object\n"
     ]
    }
   ],
   "source": [
    "print(df.columns)\n",
    "print(df.dtypes)"
   ]
  },
  {
   "cell_type": "code",
   "execution_count": 6,
   "id": "f3df0990",
   "metadata": {},
   "outputs": [
    {
     "name": "stdout",
     "output_type": "stream",
     "text": [
      "mean radius                0\n",
      "mean texture               0\n",
      "mean perimeter             0\n",
      "mean area                  0\n",
      "mean smoothness            0\n",
      "mean compactness           0\n",
      "mean concavity             0\n",
      "mean concave points        0\n",
      "mean symmetry              0\n",
      "mean fractal dimension     0\n",
      "radius error               0\n",
      "texture error              0\n",
      "perimeter error            0\n",
      "area error                 0\n",
      "smoothness error           0\n",
      "compactness error          0\n",
      "concavity error            0\n",
      "concave points error       0\n",
      "symmetry error             0\n",
      "fractal dimension error    0\n",
      "worst radius               0\n",
      "worst texture              0\n",
      "worst perimeter            0\n",
      "worst area                 0\n",
      "worst smoothness           0\n",
      "worst compactness          0\n",
      "worst concavity            0\n",
      "worst concave points       0\n",
      "worst symmetry             0\n",
      "worst fractal dimension    0\n",
      "target                     0\n",
      "dtype: int64\n"
     ]
    }
   ],
   "source": [
    "# Перевірка наявності пропущених значень\n",
    "missing_values = df.isnull().sum()\n",
    "print(missing_values)"
   ]
  },
  {
   "cell_type": "code",
   "execution_count": 7,
   "id": "73d1a831",
   "metadata": {},
   "outputs": [
    {
     "name": "stdout",
     "output_type": "stream",
     "text": [
      "Розмір даних: (569, 31)\n"
     ]
    }
   ],
   "source": [
    "# Дослідження розміру даних\n",
    "print(f\"Розмір даних: {df.shape}\")\n"
   ]
  },
  {
   "cell_type": "markdown",
   "id": "cfecef2e",
   "metadata": {},
   "source": [
    "2. Побудова і налаштування моделей:"
   ]
  },
  {
   "cell_type": "markdown",
   "id": "08805d24",
   "metadata": {},
   "source": [
    "2.1"
   ]
  },
  {
   "cell_type": "code",
   "execution_count": 8,
   "id": "77ddbd6f",
   "metadata": {},
   "outputs": [],
   "source": [
    "# Розділення даних на ознаки (X) і цільову змінну (y)\n",
    "X = df.drop(columns=['target'])\n",
    "y = df['target']"
   ]
  },
  {
   "cell_type": "code",
   "execution_count": 9,
   "id": "900c2bd2",
   "metadata": {},
   "outputs": [],
   "source": [
    "# Розділення на навчальний і тестовий набори\n",
    "X_train, X_test, y_train, y_test = train_test_split(X, y, test_size=0.2, random_state=42)"
   ]
  },
  {
   "cell_type": "code",
   "execution_count": 10,
   "id": "f08c3689",
   "metadata": {},
   "outputs": [
    {
     "name": "stdout",
     "output_type": "stream",
     "text": [
      "Розмір навчального набору: X_train: (455, 30), y_train: (455,)\n",
      "Розмір тестового набору: X_test: (114, 30), y_test: (114,)\n"
     ]
    }
   ],
   "source": [
    "print(f\"Розмір навчального набору: X_train: {X_train.shape}, y_train: {y_train.shape}\")\n",
    "print(f\"Розмір тестового набору: X_test: {X_test.shape}, y_test: {y_test.shape}\")"
   ]
  },
  {
   "cell_type": "markdown",
   "id": "5003a867",
   "metadata": {},
   "source": [
    "2.2"
   ]
  },
  {
   "cell_type": "code",
   "execution_count": 11,
   "id": "e4ee6a84",
   "metadata": {},
   "outputs": [
    {
     "name": "stdout",
     "output_type": "stream",
     "text": [
      "Точність Логістичної регресії: 0.9561\n"
     ]
    }
   ],
   "source": [
    "# 1. Логістична регресія\n",
    "logreg = LogisticRegression(max_iter=10000, random_state=42)\n",
    "logreg.fit(X_train, y_train)\n",
    "y_pred_logreg = logreg.predict(X_test)\n",
    "logreg_accuracy = accuracy_score(y_test, y_pred_logreg)\n",
    "print(f\"Точність Логістичної регресії: {logreg_accuracy:.4f}\")\n"
   ]
  },
  {
   "cell_type": "code",
   "execution_count": 12,
   "id": "2fb884d7",
   "metadata": {},
   "outputs": [
    {
     "name": "stdout",
     "output_type": "stream",
     "text": [
      "Точність Дерева рішень: 0.9474\n"
     ]
    }
   ],
   "source": [
    "# 2. Дерево рішень\n",
    "decision_tree = DecisionTreeClassifier(random_state=42)\n",
    "decision_tree.fit(X_train, y_train)\n",
    "y_pred_tree = decision_tree.predict(X_test)\n",
    "tree_accuracy = accuracy_score(y_test, y_pred_tree)\n",
    "print(f\"Точність Дерева рішень: {tree_accuracy:.4f}\")"
   ]
  },
  {
   "cell_type": "code",
   "execution_count": 13,
   "id": "830f7b16",
   "metadata": {},
   "outputs": [
    {
     "name": "stdout",
     "output_type": "stream",
     "text": [
      "Точність Випадкового лісу: 0.9649\n"
     ]
    }
   ],
   "source": [
    "# 3. Випадковий ліс\n",
    "random_forest = RandomForestClassifier(random_state=42)\n",
    "random_forest.fit(X_train, y_train)\n",
    "y_pred_forest = random_forest.predict(X_test)\n",
    "forest_accuracy = accuracy_score(y_test, y_pred_forest)\n",
    "print(f\"Точність Випадкового лісу: {forest_accuracy:.4f}\")"
   ]
  },
  {
   "cell_type": "markdown",
   "id": "3ecfe606",
   "metadata": {},
   "source": [
    "2.3"
   ]
  },
  {
   "cell_type": "code",
   "execution_count": 14,
   "id": "cb2f2bb2",
   "metadata": {},
   "outputs": [
    {
     "name": "stdout",
     "output_type": "stream",
     "text": [
      "Найкращі параметри для Логістичної регресії: {'C': 100, 'solver': 'lbfgs'}\n",
      "Найкраща точність для Логістичної регресії: 0.9648\n"
     ]
    }
   ],
   "source": [
    "logreg = LogisticRegression(max_iter=10000, random_state=42)\n",
    "param_grid_logreg = {\n",
    "    'C': [0.1, 1, 10, 100],\n",
    "    'solver': ['lbfgs', 'liblinear'],\n",
    "}\n",
    "grid_search_logreg = GridSearchCV(logreg, param_grid_logreg, cv=5, scoring='accuracy')\n",
    "grid_search_logreg.fit(X_train, y_train)\n",
    "print(f\"Найкращі параметри для Логістичної регресії: {grid_search_logreg.best_params_}\")\n",
    "print(f\"Найкраща точність для Логістичної регресії: {grid_search_logreg.best_score_:.4f}\")"
   ]
  },
  {
   "cell_type": "code",
   "execution_count": 15,
   "id": "99f97367",
   "metadata": {},
   "outputs": [
    {
     "name": "stdout",
     "output_type": "stream",
     "text": [
      "Найкращі параметри для Дерева рішень: {'max_depth': 3, 'min_samples_leaf': 1, 'min_samples_split': 2}\n",
      "Найкраща точність для Дерева рішень: 0.9319\n"
     ]
    }
   ],
   "source": [
    "# 2. Дерево рішень - підбір параметрів\n",
    "decision_tree = DecisionTreeClassifier(random_state=42)\n",
    "param_grid_tree = {\n",
    "    'max_depth': [3, 5, 7, 10, None],\n",
    "    'min_samples_split': [2, 5, 10],\n",
    "    'min_samples_leaf': [1, 2, 4],\n",
    "}\n",
    "grid_search_tree = GridSearchCV(decision_tree, param_grid_tree, cv=5, scoring='accuracy')\n",
    "grid_search_tree.fit(X_train, y_train)\n",
    "print(f\"Найкращі параметри для Дерева рішень: {grid_search_tree.best_params_}\")\n",
    "print(f\"Найкраща точність для Дерева рішень: {grid_search_tree.best_score_:.4f}\")"
   ]
  },
  {
   "cell_type": "code",
   "execution_count": 16,
   "id": "7169ce65",
   "metadata": {},
   "outputs": [
    {
     "name": "stdout",
     "output_type": "stream",
     "text": [
      "Найкращі параметри для Випадкового лісу: {'max_depth': 5, 'min_samples_leaf': 2, 'min_samples_split': 2, 'n_estimators': 50}\n",
      "Найкраща точність для Випадкового лісу: 0.9604\n"
     ]
    }
   ],
   "source": [
    "# 3. Випадковий ліс - підбір параметрів\n",
    "random_forest = RandomForestClassifier(random_state=42)\n",
    "param_grid_forest = {\n",
    "    'n_estimators': [50, 100],\n",
    "    'max_depth': [3, 5, 10, None],\n",
    "    'min_samples_split': [2, 5],\n",
    "    'min_samples_leaf': [ 2, 4],\n",
    "}\n",
    "grid_search_forest = GridSearchCV(random_forest, param_grid_forest, cv=5, scoring='accuracy')\n",
    "grid_search_forest.fit(X_train, y_train)\n",
    "print(f\"Найкращі параметри для Випадкового лісу: {grid_search_forest.best_params_}\")\n",
    "print(f\"Найкраща точність для Випадкового лісу: {grid_search_forest.best_score_:.4f}\")"
   ]
  },
  {
   "cell_type": "markdown",
   "id": "fbea0ad4",
   "metadata": {},
   "source": [
    "2.4"
   ]
  },
  {
   "cell_type": "code",
   "execution_count": 17,
   "id": "7f402eb7",
   "metadata": {},
   "outputs": [
    {
     "name": "stdout",
     "output_type": "stream",
     "text": [
      "Точність Логістичної регресії: 0.9561\n",
      "Матриця помилок для Логістичної регресії:\n",
      "[[39  4]\n",
      " [ 1 70]]\n",
      "Звіт про класифікацію для Логістичної регресії:\n",
      "              precision    recall  f1-score   support\n",
      "\n",
      "           0       0.97      0.91      0.94        43\n",
      "           1       0.95      0.99      0.97        71\n",
      "\n",
      "    accuracy                           0.96       114\n",
      "   macro avg       0.96      0.95      0.95       114\n",
      "weighted avg       0.96      0.96      0.96       114\n",
      "\n"
     ]
    }
   ],
   "source": [
    "\n",
    "# Оцінка моделей на тестовому наборі\n",
    "\n",
    "# 1. Логістична регресія\n",
    "best_logreg = grid_search_logreg.best_estimator_\n",
    "y_pred_logreg = best_logreg.predict(X_test)\n",
    "logreg_accuracy = accuracy_score(y_test, y_pred_logreg)\n",
    "print(f\"Точність Логістичної регресії: {logreg_accuracy:.4f}\")\n",
    "print(\"Матриця помилок для Логістичної регресії:\")\n",
    "print(confusion_matrix(y_test, y_pred_logreg))\n",
    "print(\"Звіт про класифікацію для Логістичної регресії:\")\n",
    "print(classification_report(y_test, y_pred_logreg))"
   ]
  },
  {
   "cell_type": "code",
   "execution_count": 18,
   "id": "c32a8d1c",
   "metadata": {},
   "outputs": [
    {
     "name": "stdout",
     "output_type": "stream",
     "text": [
      "Точність Дерева рішень: 0.9474\n",
      "Матриця помилок для Дерева рішень:\n",
      "[[39  4]\n",
      " [ 2 69]]\n",
      "Звіт про класифікацію для Дерева рішень:\n",
      "              precision    recall  f1-score   support\n",
      "\n",
      "           0       0.95      0.91      0.93        43\n",
      "           1       0.95      0.97      0.96        71\n",
      "\n",
      "    accuracy                           0.95       114\n",
      "   macro avg       0.95      0.94      0.94       114\n",
      "weighted avg       0.95      0.95      0.95       114\n",
      "\n"
     ]
    }
   ],
   "source": [
    "# 2. Дерево рішень\n",
    "best_tree = grid_search_tree.best_estimator_\n",
    "y_pred_tree = best_tree.predict(X_test)\n",
    "tree_accuracy = accuracy_score(y_test, y_pred_tree)\n",
    "print(f\"Точність Дерева рішень: {tree_accuracy:.4f}\")\n",
    "print(\"Матриця помилок для Дерева рішень:\")\n",
    "print(confusion_matrix(y_test, y_pred_tree))\n",
    "print(\"Звіт про класифікацію для Дерева рішень:\")\n",
    "print(classification_report(y_test, y_pred_tree))"
   ]
  },
  {
   "cell_type": "code",
   "execution_count": 19,
   "id": "66a6b2d3",
   "metadata": {},
   "outputs": [
    {
     "name": "stdout",
     "output_type": "stream",
     "text": [
      "Точність Випадкового лісу: 0.9649\n",
      "Матриця помилок для Випадкового лісу:\n",
      "[[40  3]\n",
      " [ 1 70]]\n",
      "Звіт про класифікацію для Випадкового лісу:\n",
      "              precision    recall  f1-score   support\n",
      "\n",
      "           0       0.98      0.93      0.95        43\n",
      "           1       0.96      0.99      0.97        71\n",
      "\n",
      "    accuracy                           0.96       114\n",
      "   macro avg       0.97      0.96      0.96       114\n",
      "weighted avg       0.97      0.96      0.96       114\n",
      "\n"
     ]
    }
   ],
   "source": [
    "# 3. Випадковий ліс\n",
    "best_forest = grid_search_forest.best_estimator_\n",
    "y_pred_forest = best_forest.predict(X_test)\n",
    "forest_accuracy = accuracy_score(y_test, y_pred_forest)\n",
    "print(f\"Точність Випадкового лісу: {forest_accuracy:.4f}\")\n",
    "print(\"Матриця помилок для Випадкового лісу:\")\n",
    "print(confusion_matrix(y_test, y_pred_forest))\n",
    "print(\"Звіт про класифікацію для Випадкового лісу:\")\n",
    "print(classification_report(y_test, y_pred_forest))"
   ]
  },
  {
   "cell_type": "code",
   "execution_count": null,
   "id": "f00c81a3",
   "metadata": {},
   "outputs": [],
   "source": []
  }
 ],
 "metadata": {
  "kernelspec": {
   "display_name": "Python 3 (ipykernel)",
   "language": "python",
   "name": "python3"
  },
  "language_info": {
   "codemirror_mode": {
    "name": "ipython",
    "version": 3
   },
   "file_extension": ".py",
   "mimetype": "text/x-python",
   "name": "python",
   "nbconvert_exporter": "python",
   "pygments_lexer": "ipython3",
   "version": "3.11.4"
  }
 },
 "nbformat": 4,
 "nbformat_minor": 5
}
